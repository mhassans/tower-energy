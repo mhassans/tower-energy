{
 "cells": [
  {
   "cell_type": "code",
   "execution_count": 1,
   "id": "grand-antigua",
   "metadata": {},
   "outputs": [],
   "source": [
    "import pandas as pd\n",
    "import numpy as np\n",
    "import matplotlib.pyplot as plt\n",
    "import sys"
   ]
  },
  {
   "cell_type": "code",
   "execution_count": 2,
   "id": "seasonal-remedy",
   "metadata": {},
   "outputs": [],
   "source": [
    "sys.path.insert(0, '..') #add paernet directory to the list in which packages are searched"
   ]
  },
  {
   "cell_type": "code",
   "execution_count": 3,
   "id": "emotional-actress",
   "metadata": {},
   "outputs": [
    {
     "name": "stdout",
     "output_type": "stream",
     "text": [
      "Welcome to JupyROOT 6.22/06\n"
     ]
    }
   ],
   "source": [
    "import math\n",
    "import ROOT"
   ]
  },
  {
   "cell_type": "code",
   "execution_count": 4,
   "id": "interracial-ballot",
   "metadata": {},
   "outputs": [],
   "source": [
    "ROOT.gStyle.SetOptStat(0)"
   ]
  },
  {
   "cell_type": "code",
   "execution_count": 5,
   "id": "aggregate-barrier",
   "metadata": {},
   "outputs": [],
   "source": [
    "from funcs import getModulesWithTC, fillTowersIncl"
   ]
  },
  {
   "cell_type": "markdown",
   "id": "severe-bobby",
   "metadata": {},
   "source": [
    "# 1. Filling with cells"
   ]
  },
  {
   "cell_type": "markdown",
   "id": "insured-supplement",
   "metadata": {},
   "source": [
    "# -------------------------------"
   ]
  },
  {
   "cell_type": "markdown",
   "id": "talented-relay",
   "metadata": {},
   "source": [
    "## 1.1 Silicons"
   ]
  },
  {
   "cell_type": "code",
   "execution_count": 6,
   "id": "amino-agriculture",
   "metadata": {},
   "outputs": [],
   "source": [
    "cellsSilic = pd.read_csv('../input/cellPositions/sensorCell_positions.txt' , sep=' ')\n",
    "cellsSilic.columns= [\"layer\",\"waferu\",\"waferv\",\"triggercellu\",\"triggercellv\",\"SC_eta\",\"SC_phi\"]\n",
    "\n",
    "last_CE_E_layer = 28\n",
    "cellsSilic = cellsSilic[(cellsSilic.layer % 2 == 1) | (cellsSilic.layer > last_CE_E_layer)].reset_index(drop=True)#Only use trigger layers. \n",
    "cellsSilic[\"SC_phi\"] = cellsSilic[\"SC_phi\"].replace(0, 1e-5) #Force SCs on border phi=0 to fill positive-phi bins."
   ]
  },
  {
   "cell_type": "code",
   "execution_count": 7,
   "id": "accepted-cricket",
   "metadata": {},
   "outputs": [],
   "source": [
    "etaBinStep = 0.0870\n",
    "minBinEta = 14\n",
    "maxBinEta = 36\n",
    "minEta = minBinEta * etaBinStep\n",
    "maxEta = maxBinEta * etaBinStep\n",
    "nBinsEta = maxBinEta - minBinEta\n",
    "\n",
    "phiBinStep = 2*math.pi/72\n",
    "minBinPhi = -5\n",
    "maxBinPhi = 28\n",
    "minPhi = minBinPhi * phiBinStep\n",
    "maxPhi = maxBinPhi * phiBinStep\n",
    "nBinsPhi = maxBinPhi - minBinPhi"
   ]
  },
  {
   "cell_type": "code",
   "execution_count": 8,
   "id": "perceived-conducting",
   "metadata": {},
   "outputs": [],
   "source": [
    "modulesWithTC = getModulesWithTC('../input/allocation/allocation_20210421.txt')"
   ]
  },
  {
   "cell_type": "code",
   "execution_count": 9,
   "id": "saving-sauce",
   "metadata": {},
   "outputs": [
    {
     "name": "stdout",
     "output_type": "stream",
     "text": [
      "layer=  1\n",
      "layer=  3\n",
      "layer=  5\n",
      "layer=  7\n",
      "layer=  9\n",
      "layer=  11\n",
      "layer=  13\n",
      "layer=  15\n",
      "layer=  17\n",
      "layer=  19\n",
      "layer=  21\n",
      "layer=  23\n",
      "layer=  25\n",
      "layer=  27\n",
      "layer=  29\n",
      "layer=  30\n",
      "layer=  31\n",
      "layer=  32\n",
      "layer=  33\n",
      "layer=  34\n",
      "layer=  35\n",
      "layer=  36\n",
      "layer=  37\n",
      "layer=  38\n",
      "layer=  39\n",
      "layer=  40\n",
      "layer=  41\n",
      "layer=  42\n",
      "layer=  43\n",
      "layer=  44\n",
      "layer=  45\n",
      "layer=  46\n",
      "layer=  47\n",
      "layer=  48\n",
      "layer=  49\n",
      "layer=  50\n"
     ]
    }
   ],
   "source": [
    "EM_cellsOnly = ROOT.TH2D(\"EM_cellsOnly\",\"\",nBinsEta,minEta,maxEta,nBinsPhi,minPhi,maxPhi)\n",
    "HadSilic_cellsOnly = ROOT.TH2D(\"HadSilic_cellsOnly\",\"\",nBinsEta,minEta,maxEta,nBinsPhi,minPhi,maxPhi)\n",
    "for l in range(1, 1+int(np.max(cellsSilic['layer'])) ): #layer number\n",
    "    if (l <= last_CE_E_layer and l%2 == 0): #only using trigger layers \n",
    "        continue\n",
    "    print('layer= ', l)\n",
    "    for u in range(1+np.max(cellsSilic['waferu'])): #wafer u\n",
    "        for v in range(1+np.max(cellsSilic['waferv'])): #wafer v\n",
    "            wafer_data = cellsSilic[(cellsSilic[\"waferu\"]==u) & (cellsSilic[\"waferv\"]==v) & (cellsSilic[\"layer\"]==l)]\n",
    "            if (len(wafer_data)!=0) and ('l'+str(l)+'-u'+str(u)+'-v'+str(v) in modulesWithTC):\n",
    "                if(l <= last_CE_E_layer):\n",
    "                    for index, row in wafer_data.iterrows():\n",
    "                        EM_cellsOnly.Fill(-1.0*row[\"SC_eta\"], row[\"SC_phi\"], 1./len(wafer_data))\n",
    "                else:\n",
    "                    for index, row in wafer_data.iterrows():\n",
    "                        HadSilic_cellsOnly.Fill(-1.0*row[\"SC_eta\"], row[\"SC_phi\"], 1./len(wafer_data))"
   ]
  },
  {
   "cell_type": "code",
   "execution_count": 10,
   "id": "direct-advertising",
   "metadata": {},
   "outputs": [
    {
     "data": {
      "image/png": "[encoded data removed]",
      "text/plain": [
       "<IPython.core.display.Image object>"
      ]
     },
     "metadata": {},
     "output_type": "display_data"
    }
   ],
   "source": [
    "canv_EM_cellsOnly = ROOT.TCanvas()\n",
    "EM_cellsOnly.Draw(\"colz\")\n",
    "canv_EM_cellsOnly.Draw()"
   ]
  },
  {
   "cell_type": "code",
   "execution_count": 11,
   "id": "collect-range",
   "metadata": {},
   "outputs": [
    {
     "data": {
      "image/png": "[encoded data removed]",
      "text/plain": [
       "<IPython.core.display.Image object>"
      ]
     },
     "metadata": {},
     "output_type": "display_data"
    }
   ],
   "source": [
    "canv_HadSilic_cellsOnly = ROOT.TCanvas()\n",
    "HadSilic_cellsOnly.Draw(\"colz\")\n",
    "canv_HadSilic_cellsOnly.Draw()"
   ]
  },
  {
   "cell_type": "markdown",
   "id": "front-charter",
   "metadata": {},
   "source": [
    "# -----------------------------"
   ]
  },
  {
   "cell_type": "markdown",
   "id": "latter-oriental",
   "metadata": {},
   "source": [
    "## 1.2 Scintillators"
   ]
  },
  {
   "cell_type": "code",
   "execution_count": 12,
   "id": "decimal-entertainment",
   "metadata": {},
   "outputs": [],
   "source": [
    "cellsScint = pd.read_csv('../input/cellPositions/TCPositions_sctintillator.csv', sep=' ')\n",
    "thresh ={\n",
    "        37 : 1.57,\n",
    "        38 : 1.58,\n",
    "        39 : 1.59,\n",
    "        40 : 1.60,\n",
    "        41 : 1.79,\n",
    "        42 :1.81,\n",
    "        43 :1.83,\n",
    "        44 : 1.85,\n",
    "        45 : 1.86,\n",
    "        46 : 1.88,\n",
    "        47 : 1.90,\n",
    "        48 : 1.92,\n",
    "        49 : 1.93,\n",
    "        50 :1.95\n",
    "        }"
   ]
  },
  {
   "cell_type": "code",
   "execution_count": 13,
   "id": "minimal-sector",
   "metadata": {},
   "outputs": [],
   "source": [
    "HadScint_cellsOnly = ROOT.TH2D(\"HadScint_cellsOnly\",\"\",nBinsEta,minEta,maxEta,nBinsPhi,minPhi,maxPhi)"
   ]
  },
  {
   "cell_type": "code",
   "execution_count": 14,
   "id": "early-plasma",
   "metadata": {},
   "outputs": [],
   "source": [
    "for j in range(37,51):\n",
    "    m = (cellsScint['triggercelleta']*-1)[(cellsScint['layer']==j) & (cellsScint['triggercelliphi']==1)]\n",
    "    for eta in m:\n",
    "        norm = (m>thresh[j]).sum() if eta>thresh[j] else (m<thresh[j]).sum()\n",
    "        for k in range(24):\n",
    "            HadScint_cellsOnly.Fill(eta, math.pi/72+k*phiBinStep, 0.5/norm) #0.5 is there because two towers make up an ECON-T   "
   ]
  },
  {
   "cell_type": "code",
   "execution_count": 15,
   "id": "printable-disability",
   "metadata": {},
   "outputs": [
    {
     "data": {
      "image/png": "[encoded data removed]",
      "text/plain": [
       "<IPython.core.display.Image object>"
      ]
     },
     "metadata": {},
     "output_type": "display_data"
    }
   ],
   "source": [
    "canv_HadScint_cellsOnly = ROOT.TCanvas()\n",
    "HadScint_cellsOnly.Draw(\"colz\")\n",
    "canv_HadScint_cellsOnly.Draw()"
   ]
  },
  {
   "cell_type": "markdown",
   "id": "beginning-berry",
   "metadata": {},
   "source": [
    "# 2. Fits"
   ]
  },
  {
   "cell_type": "code",
   "execution_count": 16,
   "id": "italic-blank",
   "metadata": {},
   "outputs": [],
   "source": [
    "parMtxHadScint = pd.read_pickle('../output/tower_module_mapping_array/param_mtx_had_scint.pkl')\n",
    "parMtxHadSilic = pd.read_pickle('../output/tower_module_mapping_array/param_mtx_had_silic.pkl')\n",
    "parMtxEM = pd.read_pickle('../output/tower_module_mapping_array/param_mtx_em.pkl')"
   ]
  },
  {
   "cell_type": "code",
   "execution_count": 17,
   "id": "retired-criminal",
   "metadata": {},
   "outputs": [],
   "source": [
    "HadSilicFit = ROOT.TH2D(\"HadSilicFit\",\"\",nBinsEta,minEta,maxEta,nBinsPhi,minPhi,maxPhi)\n",
    "HadScintFit = ROOT.TH2D(\"HadScintFit\",\"\",nBinsEta,minEta,maxEta,nBinsPhi,minPhi,maxPhi)\n",
    "HadFit = ROOT.TH2D(\"HadFit\",\"\",nBinsEta,minEta,maxEta,nBinsPhi,minPhi,maxPhi) #=HadScint+HadSilic\n",
    "EMFit = ROOT.TH2D(\"EMFit\",\"\",nBinsEta,minEta,maxEta,nBinsPhi,minPhi,maxPhi)\n",
    "inclusiveFit = ROOT.TH2D(\"InclusiveFit\",\"\",nBinsEta,minEta,maxEta,nBinsPhi,minPhi,maxPhi) #=Had+EM"
   ]
  },
  {
   "cell_type": "code",
   "execution_count": 18,
   "id": "duplicate-dylan",
   "metadata": {},
   "outputs": [],
   "source": [
    "HadSilicFit = fillTowersIncl(parMtxHadSilic, HadSilicFit, DoNumOfSums=False, N_div=8) #N_div is ignored when DoNumOfSums=True\n",
    "HadScintFit = fillTowersIncl(parMtxHadScint, HadScintFit, DoNumOfSums=False, N_div=16)"
   ]
  },
  {
   "cell_type": "code",
   "execution_count": 19,
   "id": "animal-cursor",
   "metadata": {},
   "outputs": [
    {
     "data": {
      "text/plain": [
       "True"
      ]
     },
     "execution_count": 19,
     "metadata": {},
     "output_type": "execute_result"
    }
   ],
   "source": [
    "HadFit.Add(HadScintFit)\n",
    "HadFit.Add(HadSilicFit)"
   ]
  },
  {
   "cell_type": "code",
   "execution_count": 20,
   "id": "occupational-travel",
   "metadata": {},
   "outputs": [],
   "source": [
    "EMFit = fillTowersIncl(parMtxEM, EMFit, DoNumOfSums=False, N_div=8)"
   ]
  },
  {
   "cell_type": "code",
   "execution_count": 21,
   "id": "entertaining-burst",
   "metadata": {},
   "outputs": [
    {
     "data": {
      "text/plain": [
       "True"
      ]
     },
     "execution_count": 21,
     "metadata": {},
     "output_type": "execute_result"
    }
   ],
   "source": [
    "inclusiveFit.Add(HadFit)\n",
    "inclusiveFit.Add(EMFit)"
   ]
  },
  {
   "cell_type": "code",
   "execution_count": 22,
   "id": "horizontal-uganda",
   "metadata": {},
   "outputs": [
    {
     "data": {
      "image/png": "[encoded data removed]",
      "text/plain": [
       "<IPython.core.display.Image object>"
      ]
     },
     "metadata": {},
     "output_type": "display_data"
    }
   ],
   "source": [
    "canv_HadSilicFit = ROOT.TCanvas()\n",
    "HadSilicFit.Draw(\"colz\")\n",
    "canv_HadSilicFit.Draw()"
   ]
  },
  {
   "cell_type": "code",
   "execution_count": 23,
   "id": "backed-resort",
   "metadata": {},
   "outputs": [
    {
     "data": {
      "image/png": "[encoded data removed]",
      "text/plain": [
       "<IPython.core.display.Image object>"
      ]
     },
     "metadata": {},
     "output_type": "display_data"
    }
   ],
   "source": [
    "canv_EMFit = ROOT.TCanvas()\n",
    "EMFit.Draw(\"colz\")\n",
    "canv_EMFit.Draw()"
   ]
  },
  {
   "cell_type": "code",
   "execution_count": 24,
   "id": "informative-diameter",
   "metadata": {},
   "outputs": [
    {
     "data": {
      "image/png": "[encoded data removed]",
      "text/plain": [
       "<IPython.core.display.Image object>"
      ]
     },
     "metadata": {},
     "output_type": "display_data"
    }
   ],
   "source": [
    "canv_HadScintFit = ROOT.TCanvas()\n",
    "HadScintFit.Draw(\"colz\")\n",
    "canv_HadScintFit.Draw()"
   ]
  },
  {
   "cell_type": "code",
   "execution_count": null,
   "id": "incorporate-coordinator",
   "metadata": {},
   "outputs": [],
   "source": []
  },
  {
   "cell_type": "code",
   "execution_count": 25,
   "id": "portable-finland",
   "metadata": {},
   "outputs": [
    {
     "data": {
      "text/plain": [
       "True"
      ]
     },
     "execution_count": 25,
     "metadata": {},
     "output_type": "execute_result"
    }
   ],
   "source": [
    "#-----------------------------------\n",
    "inclusive_cellsOnly = ROOT.TH2D(\"Inclusive_cellsOnly\",\"\",nBinsEta,minEta,maxEta,nBinsPhi,minPhi,maxPhi)\n",
    "inclusive_cellsOnly.Add(HadScint_cellsOnly)\n",
    "inclusive_cellsOnly.Add(HadSilic_cellsOnly)\n",
    "inclusive_cellsOnly.Add(EM_cellsOnly)\n",
    "ratio = ROOT.TH2D(\"ratio\",\"\",nBinsEta,minEta,maxEta,nBinsPhi,minPhi,maxPhi)\n",
    "ratio = inclusiveFit.Clone()\n",
    "ratio.Divide(inclusive_cellsOnly)\n"
   ]
  },
  {
   "cell_type": "code",
   "execution_count": 26,
   "id": "liberal-result",
   "metadata": {},
   "outputs": [
    {
     "data": {
      "text/plain": [
       "3618.7506975185474"
      ]
     },
     "execution_count": 26,
     "metadata": {},
     "output_type": "execute_result"
    }
   ],
   "source": [
    "inclusive_cellsOnly.Integral()"
   ]
  },
  {
   "cell_type": "code",
   "execution_count": 27,
   "id": "controlling-visitor",
   "metadata": {},
   "outputs": [
    {
     "data": {
      "text/plain": [
       "3612.5"
      ]
     },
     "execution_count": 27,
     "metadata": {},
     "output_type": "execute_result"
    }
   ],
   "source": [
    "inclusiveFit.Integral()#should be close to the inclusive_cellsOnly integral"
   ]
  },
  {
   "cell_type": "code",
   "execution_count": 28,
   "id": "robust-sword",
   "metadata": {},
   "outputs": [
    {
     "data": {
      "text/plain": [
       "520.6498720655102"
      ]
     },
     "execution_count": 28,
     "metadata": {},
     "output_type": "execute_result"
    }
   ],
   "source": [
    "ratio.Integral() #should be close to the number of colored bins"
   ]
  },
  {
   "cell_type": "code",
   "execution_count": null,
   "id": "prescription-hudson",
   "metadata": {},
   "outputs": [],
   "source": []
  },
  {
   "cell_type": "code",
   "execution_count": 29,
   "id": "friendly-dynamics",
   "metadata": {},
   "outputs": [
    {
     "data": {
      "image/png": "[encoded data removed]",
      "text/plain": [
       "<IPython.core.display.Image object>"
      ]
     },
     "metadata": {},
     "output_type": "display_data"
    }
   ],
   "source": [
    "canv_inclusive_cellsOnly = ROOT.TCanvas()\n",
    "inclusive_cellsOnly.Draw(\"colz\")\n",
    "canv_inclusive_cellsOnly.Draw()"
   ]
  },
  {
   "cell_type": "code",
   "execution_count": 30,
   "id": "organized-thesis",
   "metadata": {},
   "outputs": [
    {
     "data": {
      "image/png": "[encoded data removed]",
      "text/plain": [
       "<IPython.core.display.Image object>"
      ]
     },
     "metadata": {},
     "output_type": "display_data"
    }
   ],
   "source": [
    "canv_inclusiveFit = ROOT.TCanvas()\n",
    "inclusiveFit.Draw(\"colz\")\n",
    "canv_inclusiveFit.Draw()"
   ]
  },
  {
   "cell_type": "code",
   "execution_count": 31,
   "id": "vertical-inside",
   "metadata": {},
   "outputs": [
    {
     "data": {
      "image/png": "[encoded data removed]",
      "text/plain": [
       "<IPython.core.display.Image object>"
      ]
     },
     "metadata": {},
     "output_type": "display_data"
    }
   ],
   "source": [
    "canv_ratio = ROOT.TCanvas()\n",
    "ratio.Draw(\"colz\")\n",
    "canv_ratio.Draw()"
   ]
  },
  {
   "cell_type": "code",
   "execution_count": null,
   "id": "czech-component",
   "metadata": {},
   "outputs": [],
   "source": []
  }
 ],
 "metadata": {
  "kernelspec": {
   "display_name": "Python 3",
   "language": "python",
   "name": "python3"
  },
  "language_info": {
   "codemirror_mode": {
    "name": "ipython",
    "version": 3
   },
   "file_extension": ".py",
   "mimetype": "text/x-python",
   "name": "python",
   "nbconvert_exporter": "python",
   "pygments_lexer": "ipython3",
   "version": "3.9.1"
  }
 },
 "nbformat": 4,
 "nbformat_minor": 5
}
