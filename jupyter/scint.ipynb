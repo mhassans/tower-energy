{
 "cells": [
  {
   "cell_type": "code",
   "execution_count": null,
   "id": "homeless-editor",
   "metadata": {},
   "outputs": [],
   "source": [
    "import pandas as pd\n",
    "import matplotlib.pyplot as plt\n"
   ]
  },
  {
   "cell_type": "code",
   "execution_count": 11,
   "id": "unavailable-douglas",
   "metadata": {},
   "outputs": [],
   "source": [
    "import numpy as np"
   ]
  },
  {
   "cell_type": "code",
   "execution_count": 3,
   "id": "direct-regulation",
   "metadata": {},
   "outputs": [],
   "source": [
    "TCs = pd.read_csv('../input/cellPositions/TCPositions_sctintillator.csv', sep=' ')"
   ]
  },
  {
   "cell_type": "code",
   "execution_count": 98,
   "id": "regular-mechanics",
   "metadata": {},
   "outputs": [
    {
     "data": {
      "text/html": [
       "<div>\n",
       "<style scoped>\n",
       "    .dataframe tbody tr th:only-of-type {\n",
       "        vertical-align: middle;\n",
       "    }\n",
       "\n",
       "    .dataframe tbody tr th {\n",
       "        vertical-align: top;\n",
       "    }\n",
       "\n",
       "    .dataframe thead th {\n",
       "        text-align: right;\n",
       "    }\n",
       "</style>\n",
       "<table border=\"1\" class=\"dataframe\">\n",
       "  <thead>\n",
       "    <tr style=\"text-align: right;\">\n",
       "      <th></th>\n",
       "      <th>layer</th>\n",
       "      <th>triggercelleta</th>\n",
       "      <th>triggercellphi</th>\n",
       "      <th>triggercellieta</th>\n",
       "      <th>triggercelliphi</th>\n",
       "    </tr>\n",
       "  </thead>\n",
       "  <tbody>\n",
       "    <tr>\n",
       "      <th>0</th>\n",
       "      <td>37.0</td>\n",
       "      <td>-1.709522</td>\n",
       "      <td>-3.119776</td>\n",
       "      <td>-9</td>\n",
       "      <td>144</td>\n",
       "    </tr>\n",
       "    <tr>\n",
       "      <th>1</th>\n",
       "      <td>37.0</td>\n",
       "      <td>-1.677480</td>\n",
       "      <td>-3.119776</td>\n",
       "      <td>-10</td>\n",
       "      <td>144</td>\n",
       "    </tr>\n",
       "    <tr>\n",
       "      <th>2</th>\n",
       "      <td>37.0</td>\n",
       "      <td>-1.634917</td>\n",
       "      <td>-3.119776</td>\n",
       "      <td>-11</td>\n",
       "      <td>144</td>\n",
       "    </tr>\n",
       "    <tr>\n",
       "      <th>3</th>\n",
       "      <td>37.0</td>\n",
       "      <td>-1.592443</td>\n",
       "      <td>-3.119776</td>\n",
       "      <td>-12</td>\n",
       "      <td>144</td>\n",
       "    </tr>\n",
       "    <tr>\n",
       "      <th>4</th>\n",
       "      <td>37.0</td>\n",
       "      <td>-1.550064</td>\n",
       "      <td>-3.119776</td>\n",
       "      <td>-13</td>\n",
       "      <td>144</td>\n",
       "    </tr>\n",
       "    <tr>\n",
       "      <th>...</th>\n",
       "      <td>...</td>\n",
       "      <td>...</td>\n",
       "      <td>...</td>\n",
       "      <td>...</td>\n",
       "      <td>...</td>\n",
       "    </tr>\n",
       "    <tr>\n",
       "      <th>29227</th>\n",
       "      <td>50.0</td>\n",
       "      <td>-1.668360</td>\n",
       "      <td>3.119776</td>\n",
       "      <td>-15</td>\n",
       "      <td>1</td>\n",
       "    </tr>\n",
       "    <tr>\n",
       "      <th>29228</th>\n",
       "      <td>50.0</td>\n",
       "      <td>-1.624724</td>\n",
       "      <td>3.119776</td>\n",
       "      <td>-16</td>\n",
       "      <td>1</td>\n",
       "    </tr>\n",
       "    <tr>\n",
       "      <th>29229</th>\n",
       "      <td>50.0</td>\n",
       "      <td>-1.581088</td>\n",
       "      <td>3.119776</td>\n",
       "      <td>-17</td>\n",
       "      <td>1</td>\n",
       "    </tr>\n",
       "    <tr>\n",
       "      <th>29230</th>\n",
       "      <td>50.0</td>\n",
       "      <td>-1.537451</td>\n",
       "      <td>3.119776</td>\n",
       "      <td>-18</td>\n",
       "      <td>1</td>\n",
       "    </tr>\n",
       "    <tr>\n",
       "      <th>29231</th>\n",
       "      <td>50.0</td>\n",
       "      <td>-1.493814</td>\n",
       "      <td>3.119776</td>\n",
       "      <td>-19</td>\n",
       "      <td>1</td>\n",
       "    </tr>\n",
       "  </tbody>\n",
       "</table>\n",
       "<p>29232 rows × 5 columns</p>\n",
       "</div>"
      ],
      "text/plain": [
       "       layer  triggercelleta  triggercellphi  triggercellieta  triggercelliphi\n",
       "0       37.0       -1.709522       -3.119776               -9              144\n",
       "1       37.0       -1.677480       -3.119776              -10              144\n",
       "2       37.0       -1.634917       -3.119776              -11              144\n",
       "3       37.0       -1.592443       -3.119776              -12              144\n",
       "4       37.0       -1.550064       -3.119776              -13              144\n",
       "...      ...             ...             ...              ...              ...\n",
       "29227   50.0       -1.668360        3.119776              -15                1\n",
       "29228   50.0       -1.624724        3.119776              -16                1\n",
       "29229   50.0       -1.581088        3.119776              -17                1\n",
       "29230   50.0       -1.537451        3.119776              -18                1\n",
       "29231   50.0       -1.493814        3.119776              -19                1\n",
       "\n",
       "[29232 rows x 5 columns]"
      ]
     },
     "execution_count": 98,
     "metadata": {},
     "output_type": "execute_result"
    }
   ],
   "source": [
    "TCs"
   ]
  },
  {
   "cell_type": "code",
   "execution_count": 79,
   "id": "weird-denial",
   "metadata": {},
   "outputs": [
    {
     "data": {
      "image/png": "[encoded data removed]",
      "text/plain": [
       "<Figure size 432x288 with 1 Axes>"
      ]
     },
     "metadata": {
      "needs_background": "light"
     },
     "output_type": "display_data"
    }
   ],
   "source": [
    "for j in range(37,51):\n",
    "    (TCs['triggercelleta']*-1)[(TCs['layer']==j) & (TCs['triggercelliphi']==1)].hist(bins=[round(i*0.0870,5) for i in range(13,32)], histtype='bar',ec='black', alpha=0.1)\n",
    "    plt.grid(None)"
   ]
  },
  {
   "cell_type": "code",
   "execution_count": 180,
   "id": "blessed-roots",
   "metadata": {},
   "outputs": [],
   "source": [
    "thresh ={\n",
    "        37 : 1.57,\n",
    "        38 : 1.58,\n",
    "        39 : 1.59,\n",
    "        40 : 1.60,\n",
    "        41 : 1.79,\n",
    "        42 :1.81,\n",
    "        43 :1.83,\n",
    "        44 : 1.85,\n",
    "        45 : 1.86,\n",
    "        46 : 1.88,\n",
    "        47 : 1.90,\n",
    "        48 : 1.92,\n",
    "        49 : 1.93,\n",
    "        50 :1.95\n",
    "        }"
   ]
  },
  {
   "cell_type": "code",
   "execution_count": 182,
   "id": "australian-prescription",
   "metadata": {},
   "outputs": [],
   "source": [
    "eta_low = []\n",
    "eta_high = []\n",
    "eta_mid = []\n",
    "for j in range(37,51):\n",
    "    m = (TCs['triggercelleta']*-1)[(TCs['layer']==j) & (TCs['triggercelliphi']==1)]\n",
    "    eta_low.append(pd.array(m)[-1] - (pd.array(m)[-2] - pd.array(m)[-1])/2)\n",
    "    eta_high.append(pd.array(m)[0] + (pd.array(m)[0] - pd.array(m)[1])/2)\n",
    "    for i in range(len(pd.array(m))):\n",
    "        if pd.array(m)[i]<thresh[j]:\n",
    "            eta_mid.append(0.5*(pd.array(m)[i]+pd.array(m)[i-1]))\n",
    "            break"
   ]
  },
  {
   "cell_type": "code",
   "execution_count": 192,
   "id": "minute-destruction",
   "metadata": {},
   "outputs": [],
   "source": [
    "borders = pd.DataFrame({\n",
    "    \"layer\": list(range(37,51)),\n",
    "    \"eta_low\": eta_low,\n",
    "    \"eta_mid\": eta_mid,\n",
    "    \"eta_high\": eta_high,    \n",
    "})"
   ]
  },
  {
   "cell_type": "code",
   "execution_count": 524,
   "id": "integrated-tower",
   "metadata": {},
   "outputs": [
    {
     "data": {
      "text/plain": [
       "<matplotlib.patches.FancyArrow at 0x7feffb4a39d0>"
      ]
     },
     "execution_count": 524,
     "metadata": {},
     "output_type": "execute_result"
    },
    {
     "data": {
      "image/png": "[encoded data removed]",
      "text/plain": [
       "<Figure size 800x400 with 1 Axes>"
      ]
     },
     "metadata": {
      "needs_background": "light"
     },
     "output_type": "display_data"
    }
   ],
   "source": [
    "#fig=plt.figure(figsize=(10,6), dpi= 100)\n",
    "fig=plt.figure(figsize=(8,4), dpi= 100)\n",
    "plt.vlines(borders['layer'], borders['eta_low'], borders['eta_high'], linestyle='-', lw=7, alpha =0.5, label = 'full range')\n",
    "plt.scatter(borders['layer'], borders['eta_mid'], marker = \"_\", color='r', label = 'border of u0 & u1')\n",
    "ax = plt.gca()\n",
    "ax.set_xticks(borders['layer'])\n",
    "ax.set_yticks([i*0.0870 for i in range(15,28)])\n",
    "ax.set_ylim([1.28,2.38])\n",
    "ax.set_xlabel('layer')\n",
    "ax.set_ylabel('eta')\n",
    "ax.grid(axis='y')\n",
    "ax.legend(loc=2)\n",
    "#for layer in borders['layer']:\n",
    "#    high = borders[borders['layer']==layer]['eta_high'].iloc[0]\n",
    "#    mid = borders[borders['layer']==layer]['eta_mid'].iloc[0]\n",
    "#    low = borders[borders['layer']==layer]['eta_low'].iloc[0]\n",
    "#    plt.text(layer+0.1,0.5*(mid+high) , 'u0')\n",
    "#    plt.text(layer+0.1,0.5*(mid+low) , 'u1')\n",
    "ax.set_axisbelow(True)\n",
    "mid = borders[borders['layer']==50]['eta_mid'].iloc[0]\n",
    "plt.text(50.3, mid+0.24 , 'u0')\n",
    "plt.arrow(50.5, mid+0.03 , 0, 0.1, width=0.05, head_length=0.1, head_width=0.21, color='k')\n",
    "plt.text(50.3, mid-0.28 , 'u1')\n",
    "plt.arrow(50.5, mid-0.03 , 0, -0.1, width=0.05, head_length=0.1, head_width=0.21, color='k')"
   ]
  },
  {
   "cell_type": "code",
   "execution_count": null,
   "id": "controlled-tribute",
   "metadata": {},
   "outputs": [],
   "source": []
  },
  {
   "cell_type": "code",
   "execution_count": null,
   "id": "later-beatles",
   "metadata": {},
   "outputs": [],
   "source": []
  },
  {
   "cell_type": "code",
   "execution_count": 323,
   "id": "focal-beatles",
   "metadata": {},
   "outputs": [
    {
     "data": {
      "text/plain": [
       "4"
      ]
     },
     "execution_count": 323,
     "metadata": {},
     "output_type": "execute_result"
    }
   ],
   "source": [
    "2+2"
   ]
  },
  {
   "cell_type": "code",
   "execution_count": null,
   "id": "palestinian-solid",
   "metadata": {},
   "outputs": [],
   "source": []
  },
  {
   "cell_type": "code",
   "execution_count": null,
   "id": "directed-output",
   "metadata": {},
   "outputs": [],
   "source": []
  },
  {
   "cell_type": "code",
   "execution_count": null,
   "id": "entitled-minimum",
   "metadata": {},
   "outputs": [],
   "source": []
  },
  {
   "cell_type": "code",
   "execution_count": null,
   "id": "hydraulic-sharing",
   "metadata": {},
   "outputs": [],
   "source": []
  },
  {
   "cell_type": "code",
   "execution_count": null,
   "id": "worse-performance",
   "metadata": {},
   "outputs": [],
   "source": []
  },
  {
   "cell_type": "code",
   "execution_count": null,
   "id": "excited-reflection",
   "metadata": {},
   "outputs": [],
   "source": []
  },
  {
   "cell_type": "code",
   "execution_count": null,
   "id": "champion-tuition",
   "metadata": {},
   "outputs": [],
   "source": []
  },
  {
   "cell_type": "code",
   "execution_count": null,
   "id": "accompanied-drinking",
   "metadata": {},
   "outputs": [],
   "source": []
  },
  {
   "cell_type": "code",
   "execution_count": null,
   "id": "possible-server",
   "metadata": {},
   "outputs": [],
   "source": []
  },
  {
   "cell_type": "code",
   "execution_count": null,
   "id": "vertical-yemen",
   "metadata": {},
   "outputs": [],
   "source": []
  },
  {
   "cell_type": "code",
   "execution_count": null,
   "id": "comic-aside",
   "metadata": {},
   "outputs": [],
   "source": []
  },
  {
   "cell_type": "code",
   "execution_count": null,
   "id": "detected-steal",
   "metadata": {},
   "outputs": [],
   "source": []
  },
  {
   "cell_type": "code",
   "execution_count": null,
   "id": "recent-likelihood",
   "metadata": {},
   "outputs": [],
   "source": []
  },
  {
   "cell_type": "code",
   "execution_count": 167,
   "id": "vietnamese-frank",
   "metadata": {},
   "outputs": [],
   "source": [
    "m = (TCs['triggercelleta']*-1)[(TCs['layer']==42) & (TCs['triggercelliphi']==1)]\n"
   ]
  },
  {
   "cell_type": "code",
   "execution_count": 168,
   "id": "static-oregon",
   "metadata": {},
   "outputs": [
    {
     "data": {
      "text/plain": [
       "8051    1.878372\n",
       "8052    1.836908\n",
       "8053    1.793823\n",
       "8054    1.750785\n",
       "8055    1.707798\n",
       "8056    1.664865\n",
       "8057    1.621990\n",
       "8058    1.579180\n",
       "8059    1.536437\n",
       "8060    1.493766\n",
       "8061    1.451174\n",
       "8062    1.408666\n",
       "8063    1.376918\n",
       "Name: triggercelleta, dtype: float64"
      ]
     },
     "execution_count": 168,
     "metadata": {},
     "output_type": "execute_result"
    }
   ],
   "source": [
    "m"
   ]
  },
  {
   "cell_type": "code",
   "execution_count": 126,
   "id": "palestinian-cathedral",
   "metadata": {},
   "outputs": [
    {
     "data": {
      "text/plain": [
       "1.4719955"
      ]
     },
     "execution_count": 126,
     "metadata": {},
     "output_type": "execute_result"
    }
   ],
   "source": [
    "1.493814 -0.021818499999999963"
   ]
  },
  {
   "cell_type": "code",
   "execution_count": 103,
   "id": "processed-luxury",
   "metadata": {},
   "outputs": [
    {
     "data": {
      "text/plain": [
       "<matplotlib.collections.PathCollection at 0x7fefd01f5550>"
      ]
     },
     "execution_count": 103,
     "metadata": {},
     "output_type": "execute_result"
    },
    {
     "data": {
      "image/png": "[encoded data removed]",
      "text/plain": [
       "<Figure size 432x288 with 1 Axes>"
      ]
     },
     "metadata": {
      "needs_background": "light"
     },
     "output_type": "display_data"
    }
   ],
   "source": [
    "plt.scatter(m.index, m.values)"
   ]
  },
  {
   "cell_type": "code",
   "execution_count": 449,
   "id": "everyday-paraguay",
   "metadata": {},
   "outputs": [],
   "source": [
    "towerEtaLines = []\n",
    "\n",
    "for i in range(15, 28):\n",
    "    towerEtaLines.append(i*0.0870)"
   ]
  },
  {
   "cell_type": "code",
   "execution_count": 444,
   "id": "resistant-insider",
   "metadata": {},
   "outputs": [],
   "source": [
    "layer=50\n",
    "temp_low = np.zeros(len(towerEtaLines)-1)\n",
    "temp_high = np.zeros(len(towerEtaLines)-1)\n",
    "low = borders['eta_low'][borders['layer']==layer].iloc[0]\n",
    "mid = borders['eta_mid'][borders['layer']==layer].iloc[0]\n",
    "high = borders['eta_high'][borders['layer']==layer].iloc[0]\n",
    "\n",
    "for index in range(len(towerEtaLines)-1):\n",
    "    if ( (towerEtaLines[index] < mid) and (towerEtaLines[index+1] > low )):\n",
    "        temp_low[index] = min(towerEtaLines[index+1], mid) - max(towerEtaLines[index], low)\n",
    "    if ( (towerEtaLines[index] < high) and (towerEtaLines[index+1] > mid )):\n",
    "        temp_high[index] = min(towerEtaLines[index+1], high) - max(towerEtaLines[index], mid)\n",
    "        "
   ]
  },
  {
   "cell_type": "code",
   "execution_count": 456,
   "id": "convinced-delivery",
   "metadata": {},
   "outputs": [],
   "source": [
    "a = {}\n",
    "a['s']='asd'\n",
    "a['r']='ad'"
   ]
  },
  {
   "cell_type": "code",
   "execution_count": 461,
   "id": "broke-illinois",
   "metadata": {},
   "outputs": [],
   "source": [
    "N_div = 16\n",
    "half_N_div = N_div//2"
   ]
  },
  {
   "cell_type": "code",
   "execution_count": 462,
   "id": "faced-toronto",
   "metadata": {},
   "outputs": [
    {
     "data": {
      "text/plain": [
       "8"
      ]
     },
     "execution_count": 462,
     "metadata": {},
     "output_type": "execute_result"
    }
   ],
   "source": [
    "half_N_div"
   ]
  },
  {
   "cell_type": "code",
   "execution_count": 391,
   "id": "chronic-playing",
   "metadata": {},
   "outputs": [
    {
     "data": {
      "text/html": [
       "<div>\n",
       "<style scoped>\n",
       "    .dataframe tbody tr th:only-of-type {\n",
       "        vertical-align: middle;\n",
       "    }\n",
       "\n",
       "    .dataframe tbody tr th {\n",
       "        vertical-align: top;\n",
       "    }\n",
       "\n",
       "    .dataframe thead th {\n",
       "        text-align: right;\n",
       "    }\n",
       "</style>\n",
       "<table border=\"1\" class=\"dataframe\">\n",
       "  <thead>\n",
       "    <tr style=\"text-align: right;\">\n",
       "      <th></th>\n",
       "      <th>layer</th>\n",
       "      <th>eta_low</th>\n",
       "      <th>eta_mid</th>\n",
       "      <th>eta_high</th>\n",
       "    </tr>\n",
       "  </thead>\n",
       "  <tbody>\n",
       "    <tr>\n",
       "      <th>0</th>\n",
       "      <td>37</td>\n",
       "      <td>1.460440</td>\n",
       "      <td>1.571254</td>\n",
       "      <td>1.725544</td>\n",
       "    </tr>\n",
       "    <tr>\n",
       "      <th>1</th>\n",
       "      <td>38</td>\n",
       "      <td>1.456340</td>\n",
       "      <td>1.583345</td>\n",
       "      <td>1.737915</td>\n",
       "    </tr>\n",
       "    <tr>\n",
       "      <th>2</th>\n",
       "      <td>39</td>\n",
       "      <td>1.425803</td>\n",
       "      <td>1.595304</td>\n",
       "      <td>1.750144</td>\n",
       "    </tr>\n",
       "    <tr>\n",
       "      <th>3</th>\n",
       "      <td>40</td>\n",
       "      <td>1.410980</td>\n",
       "      <td>1.607132</td>\n",
       "      <td>1.762233</td>\n",
       "    </tr>\n",
       "    <tr>\n",
       "      <th>4</th>\n",
       "      <td>41</td>\n",
       "      <td>1.386276</td>\n",
       "      <td>1.796967</td>\n",
       "      <td>1.880548</td>\n",
       "    </tr>\n",
       "    <tr>\n",
       "      <th>5</th>\n",
       "      <td>42</td>\n",
       "      <td>1.361044</td>\n",
       "      <td>1.815365</td>\n",
       "      <td>1.899104</td>\n",
       "    </tr>\n",
       "    <tr>\n",
       "      <th>6</th>\n",
       "      <td>43</td>\n",
       "      <td>1.335281</td>\n",
       "      <td>1.833449</td>\n",
       "      <td>2.049689</td>\n",
       "    </tr>\n",
       "    <tr>\n",
       "      <th>7</th>\n",
       "      <td>44</td>\n",
       "      <td>1.351595</td>\n",
       "      <td>1.851226</td>\n",
       "      <td>2.067786</td>\n",
       "    </tr>\n",
       "    <tr>\n",
       "      <th>8</th>\n",
       "      <td>45</td>\n",
       "      <td>1.367678</td>\n",
       "      <td>1.868708</td>\n",
       "      <td>2.085571</td>\n",
       "    </tr>\n",
       "    <tr>\n",
       "      <th>9</th>\n",
       "      <td>46</td>\n",
       "      <td>1.383539</td>\n",
       "      <td>1.885903</td>\n",
       "      <td>2.103054</td>\n",
       "    </tr>\n",
       "    <tr>\n",
       "      <th>10</th>\n",
       "      <td>47</td>\n",
       "      <td>1.399180</td>\n",
       "      <td>1.902821</td>\n",
       "      <td>2.250833</td>\n",
       "    </tr>\n",
       "    <tr>\n",
       "      <th>11</th>\n",
       "      <td>48</td>\n",
       "      <td>1.414607</td>\n",
       "      <td>1.919469</td>\n",
       "      <td>2.267852</td>\n",
       "    </tr>\n",
       "    <tr>\n",
       "      <th>12</th>\n",
       "      <td>49</td>\n",
       "      <td>1.429826</td>\n",
       "      <td>1.935856</td>\n",
       "      <td>2.284593</td>\n",
       "    </tr>\n",
       "    <tr>\n",
       "      <th>13</th>\n",
       "      <td>50</td>\n",
       "      <td>1.471996</td>\n",
       "      <td>1.951989</td>\n",
       "      <td>2.301063</td>\n",
       "    </tr>\n",
       "  </tbody>\n",
       "</table>\n",
       "</div>"
      ],
      "text/plain": [
       "    layer   eta_low   eta_mid  eta_high\n",
       "0      37  1.460440  1.571254  1.725544\n",
       "1      38  1.456340  1.583345  1.737915\n",
       "2      39  1.425803  1.595304  1.750144\n",
       "3      40  1.410980  1.607132  1.762233\n",
       "4      41  1.386276  1.796967  1.880548\n",
       "5      42  1.361044  1.815365  1.899104\n",
       "6      43  1.335281  1.833449  2.049689\n",
       "7      44  1.351595  1.851226  2.067786\n",
       "8      45  1.367678  1.868708  2.085571\n",
       "9      46  1.383539  1.885903  2.103054\n",
       "10     47  1.399180  1.902821  2.250833\n",
       "11     48  1.414607  1.919469  2.267852\n",
       "12     49  1.429826  1.935856  2.284593\n",
       "13     50  1.471996  1.951989  2.301063"
      ]
     },
     "execution_count": 391,
     "metadata": {},
     "output_type": "execute_result"
    }
   ],
   "source": [
    "borders"
   ]
  },
  {
   "cell_type": "code",
   "execution_count": 397,
   "id": "military-lotus",
   "metadata": {},
   "outputs": [
    {
     "data": {
      "text/plain": [
       "1"
      ]
     },
     "execution_count": 397,
     "metadata": {},
     "output_type": "execute_result"
    }
   ],
   "source": [
    "min(3,1)"
   ]
  },
  {
   "cell_type": "code",
   "execution_count": null,
   "id": "stuffed-praise",
   "metadata": {},
   "outputs": [],
   "source": []
  }
 ],
 "metadata": {
  "kernelspec": {
   "display_name": "Python 3",
   "language": "python",
   "name": "python3"
  },
  "language_info": {
   "codemirror_mode": {
    "name": "ipython",
    "version": 3
   },
   "file_extension": ".py",
   "mimetype": "text/x-python",
   "name": "python",
   "nbconvert_exporter": "python",
   "pygments_lexer": "ipython3",
   "version": "3.9.1"
  }
 },
 "nbformat": 4,
 "nbformat_minor": 5
}
