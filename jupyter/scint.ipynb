{
 "cells": [
  {
   "cell_type": "code",
   "execution_count": null,
   "id": "registered-female",
   "metadata": {},
   "outputs": [],
   "source": [
    "import pandas as pd\n",
    "import matplotlib.pyplot as plt\n"
   ]
  },
  {
   "cell_type": "code",
   "execution_count": 11,
   "id": "still-cholesterol",
   "metadata": {},
   "outputs": [],
   "source": [
    "import numpy as np"
   ]
  },
  {
   "cell_type": "code",
   "execution_count": 3,
   "id": "seven-transition",
   "metadata": {},
   "outputs": [],
   "source": [
    "TCs = pd.read_csv('../input/cellPositions/TCPositions_sctintillator.csv', sep=' ')"
   ]
  },
  {
   "cell_type": "code",
   "execution_count": 98,
   "id": "generic-parcel",
   "metadata": {},
   "outputs": [
    {
     "data": {
      "text/html": [
       "<div>\n",
       "<style scoped>\n",
       "    .dataframe tbody tr th:only-of-type {\n",
       "        vertical-align: middle;\n",
       "    }\n",
       "\n",
       "    .dataframe tbody tr th {\n",
       "        vertical-align: top;\n",
       "    }\n",
       "\n",
       "    .dataframe thead th {\n",
       "        text-align: right;\n",
       "    }\n",
       "</style>\n",
       "<table border=\"1\" class=\"dataframe\">\n",
       "  <thead>\n",
       "    <tr style=\"text-align: right;\">\n",
       "      <th></th>\n",
       "      <th>layer</th>\n",
       "      <th>triggercelleta</th>\n",
       "      <th>triggercellphi</th>\n",
       "      <th>triggercellieta</th>\n",
       "      <th>triggercelliphi</th>\n",
       "    </tr>\n",
       "  </thead>\n",
       "  <tbody>\n",
       "    <tr>\n",
       "      <th>0</th>\n",
       "      <td>37.0</td>\n",
       "      <td>-1.709522</td>\n",
       "      <td>-3.119776</td>\n",
       "      <td>-9</td>\n",
       "      <td>144</td>\n",
       "    </tr>\n",
       "    <tr>\n",
       "      <th>1</th>\n",
       "      <td>37.0</td>\n",
       "      <td>-1.677480</td>\n",
       "      <td>-3.119776</td>\n",
       "      <td>-10</td>\n",
       "      <td>144</td>\n",
       "    </tr>\n",
       "    <tr>\n",
       "      <th>2</th>\n",
       "      <td>37.0</td>\n",
       "      <td>-1.634917</td>\n",
       "      <td>-3.119776</td>\n",
       "      <td>-11</td>\n",
       "      <td>144</td>\n",
       "    </tr>\n",
       "    <tr>\n",
       "      <th>3</th>\n",
       "      <td>37.0</td>\n",
       "      <td>-1.592443</td>\n",
       "      <td>-3.119776</td>\n",
       "      <td>-12</td>\n",
       "      <td>144</td>\n",
       "    </tr>\n",
       "    <tr>\n",
       "      <th>4</th>\n",
       "      <td>37.0</td>\n",
       "      <td>-1.550064</td>\n",
       "      <td>-3.119776</td>\n",
       "      <td>-13</td>\n",
       "      <td>144</td>\n",
       "    </tr>\n",
       "    <tr>\n",
       "      <th>...</th>\n",
       "      <td>...</td>\n",
       "      <td>...</td>\n",
       "      <td>...</td>\n",
       "      <td>...</td>\n",
       "      <td>...</td>\n",
       "    </tr>\n",
       "    <tr>\n",
       "      <th>29227</th>\n",
       "      <td>50.0</td>\n",
       "      <td>-1.668360</td>\n",
       "      <td>3.119776</td>\n",
       "      <td>-15</td>\n",
       "      <td>1</td>\n",
       "    </tr>\n",
       "    <tr>\n",
       "      <th>29228</th>\n",
       "      <td>50.0</td>\n",
       "      <td>-1.624724</td>\n",
       "      <td>3.119776</td>\n",
       "      <td>-16</td>\n",
       "      <td>1</td>\n",
       "    </tr>\n",
       "    <tr>\n",
       "      <th>29229</th>\n",
       "      <td>50.0</td>\n",
       "      <td>-1.581088</td>\n",
       "      <td>3.119776</td>\n",
       "      <td>-17</td>\n",
       "      <td>1</td>\n",
       "    </tr>\n",
       "    <tr>\n",
       "      <th>29230</th>\n",
       "      <td>50.0</td>\n",
       "      <td>-1.537451</td>\n",
       "      <td>3.119776</td>\n",
       "      <td>-18</td>\n",
       "      <td>1</td>\n",
       "    </tr>\n",
       "    <tr>\n",
       "      <th>29231</th>\n",
       "      <td>50.0</td>\n",
       "      <td>-1.493814</td>\n",
       "      <td>3.119776</td>\n",
       "      <td>-19</td>\n",
       "      <td>1</td>\n",
       "    </tr>\n",
       "  </tbody>\n",
       "</table>\n",
       "<p>29232 rows × 5 columns</p>\n",
       "</div>"
      ],
      "text/plain": [
       "       layer  triggercelleta  triggercellphi  triggercellieta  triggercelliphi\n",
       "0       37.0       -1.709522       -3.119776               -9              144\n",
       "1       37.0       -1.677480       -3.119776              -10              144\n",
       "2       37.0       -1.634917       -3.119776              -11              144\n",
       "3       37.0       -1.592443       -3.119776              -12              144\n",
       "4       37.0       -1.550064       -3.119776              -13              144\n",
       "...      ...             ...             ...              ...              ...\n",
       "29227   50.0       -1.668360        3.119776              -15                1\n",
       "29228   50.0       -1.624724        3.119776              -16                1\n",
       "29229   50.0       -1.581088        3.119776              -17                1\n",
       "29230   50.0       -1.537451        3.119776              -18                1\n",
       "29231   50.0       -1.493814        3.119776              -19                1\n",
       "\n",
       "[29232 rows x 5 columns]"
      ]
     },
     "execution_count": 98,
     "metadata": {},
     "output_type": "execute_result"
    }
   ],
   "source": [
    "TCs"
   ]
  },
  {
   "cell_type": "code",
   "execution_count": 79,
   "id": "enclosed-fleece",
   "metadata": {},
   "outputs": [
    {
     "data": {
      "image/png": "[encoded data removed]",
      "text/plain": [
       "<Figure size 432x288 with 1 Axes>"
      ]
     },
     "metadata": {
      "needs_background": "light"
     },
     "output_type": "display_data"
    }
   ],
   "source": [
    "for j in range(37,51):\n",
    "    (TCs['triggercelleta']*-1)[(TCs['layer']==j) & (TCs['triggercelliphi']==1)].hist(bins=[round(i*0.0870,5) for i in range(13,32)], histtype='bar',ec='black', alpha=0.1)\n",
    "    plt.grid(None)"
   ]
  },
  {
   "cell_type": "code",
   "execution_count": 180,
   "id": "destroyed-texture",
   "metadata": {},
   "outputs": [],
   "source": [
    "thresh ={\n",
    "        37 : 1.57,\n",
    "        38 : 1.58,\n",
    "        39 : 1.59,\n",
    "        40 : 1.60,\n",
    "        41 : 1.79,\n",
    "        42 :1.81,\n",
    "        43 :1.83,\n",
    "        44 : 1.85,\n",
    "        45 : 1.86,\n",
    "        46 : 1.88,\n",
    "        47 : 1.90,\n",
    "        48 : 1.92,\n",
    "        49 : 1.93,\n",
    "        50 :1.95\n",
    "        }"
   ]
  },
  {
   "cell_type": "code",
   "execution_count": 182,
   "id": "critical-tamil",
   "metadata": {},
   "outputs": [],
   "source": [
    "eta_low = []\n",
    "eta_high = []\n",
    "eta_mid = []\n",
    "for j in range(37,51):\n",
    "    m = (TCs['triggercelleta']*-1)[(TCs['layer']==j) & (TCs['triggercelliphi']==1)]\n",
    "    eta_low.append(pd.array(m)[-1] - (pd.array(m)[-2] - pd.array(m)[-1])/2)\n",
    "    eta_high.append(pd.array(m)[0] + (pd.array(m)[0] - pd.array(m)[1])/2)\n",
    "    for i in range(len(pd.array(m))):\n",
    "        if pd.array(m)[i]<thresh[j]:\n",
    "            eta_mid.append(0.5*(pd.array(m)[i]+pd.array(m)[i-1]))\n",
    "            break"
   ]
  },
  {
   "cell_type": "code",
   "execution_count": 192,
   "id": "enormous-unemployment",
   "metadata": {},
   "outputs": [],
   "source": [
    "borders = pd.DataFrame({\n",
    "    \"layer\": list(range(37,51)),\n",
    "    \"eta_low\": eta_low,\n",
    "    \"eta_mid\": eta_mid,\n",
    "    \"eta_high\": eta_high,    \n",
    "})"
   ]
  },
  {
   "cell_type": "code",
   "execution_count": 322,
   "id": "colonial-mainstream",
   "metadata": {},
   "outputs": [
    {
     "data": {
      "text/plain": [
       "<matplotlib.legend.Legend at 0x7fefc7f2f3d0>"
      ]
     },
     "execution_count": 322,
     "metadata": {},
     "output_type": "execute_result"
    },
    {
     "data": {
      "image/png": "[encoded data removed]",
      "text/plain": [
       "<Figure size 1000x600 with 1 Axes>"
      ]
     },
     "metadata": {
      "needs_background": "light"
     },
     "output_type": "display_data"
    }
   ],
   "source": [
    "fig=plt.figure(figsize=(10,6), dpi= 100)\n",
    "plt.vlines(borders['layer'], borders['eta_low'], borders['eta_high'], linestyle='-', lw=7, alpha =0.5, label = 'full range')\n",
    "plt.scatter(borders['layer'], borders['eta_mid'], marker = \"_\", color='r', label = 'ieta0-ieta1 border')\n",
    "ax = plt.gca()\n",
    "ax.set_xticks(borders['layer'])\n",
    "ax.set_yticks([i*0.0870 for i in range(15,28)])\n",
    "ax.set_ylim([1.28,2.38])\n",
    "ax.set_xlabel('layer')\n",
    "ax.set_ylabel('eta')\n",
    "ax.grid(axis='y')\n",
    "ax.legend(loc=2)"
   ]
  },
  {
   "cell_type": "code",
   "execution_count": null,
   "id": "brutal-pricing",
   "metadata": {},
   "outputs": [],
   "source": []
  },
  {
   "cell_type": "code",
   "execution_count": null,
   "id": "adaptive-marsh",
   "metadata": {},
   "outputs": [],
   "source": []
  },
  {
   "cell_type": "code",
   "execution_count": 323,
   "id": "democratic-humor",
   "metadata": {},
   "outputs": [
    {
     "data": {
      "text/plain": [
       "4"
      ]
     },
     "execution_count": 323,
     "metadata": {},
     "output_type": "execute_result"
    }
   ],
   "source": [
    "2+2"
   ]
  },
  {
   "cell_type": "code",
   "execution_count": null,
   "id": "sharp-customs",
   "metadata": {},
   "outputs": [],
   "source": []
  },
  {
   "cell_type": "code",
   "execution_count": null,
   "id": "gentle-quarterly",
   "metadata": {},
   "outputs": [],
   "source": []
  },
  {
   "cell_type": "code",
   "execution_count": null,
   "id": "historical-ladder",
   "metadata": {},
   "outputs": [],
   "source": []
  },
  {
   "cell_type": "code",
   "execution_count": null,
   "id": "japanese-detection",
   "metadata": {},
   "outputs": [],
   "source": []
  },
  {
   "cell_type": "code",
   "execution_count": null,
   "id": "plastic-medication",
   "metadata": {},
   "outputs": [],
   "source": []
  },
  {
   "cell_type": "code",
   "execution_count": null,
   "id": "assured-alloy",
   "metadata": {},
   "outputs": [],
   "source": []
  },
  {
   "cell_type": "code",
   "execution_count": null,
   "id": "horizontal-wireless",
   "metadata": {},
   "outputs": [],
   "source": []
  },
  {
   "cell_type": "code",
   "execution_count": null,
   "id": "chemical-ceramic",
   "metadata": {},
   "outputs": [],
   "source": []
  },
  {
   "cell_type": "code",
   "execution_count": null,
   "id": "toxic-chambers",
   "metadata": {},
   "outputs": [],
   "source": []
  },
  {
   "cell_type": "code",
   "execution_count": null,
   "id": "animated-stylus",
   "metadata": {},
   "outputs": [],
   "source": []
  },
  {
   "cell_type": "code",
   "execution_count": null,
   "id": "going-thing",
   "metadata": {},
   "outputs": [],
   "source": []
  },
  {
   "cell_type": "code",
   "execution_count": null,
   "id": "armed-witch",
   "metadata": {},
   "outputs": [],
   "source": []
  },
  {
   "cell_type": "code",
   "execution_count": null,
   "id": "committed-boutique",
   "metadata": {},
   "outputs": [],
   "source": []
  },
  {
   "cell_type": "code",
   "execution_count": 167,
   "id": "opponent-hampshire",
   "metadata": {},
   "outputs": [],
   "source": [
    "m = (TCs['triggercelleta']*-1)[(TCs['layer']==42) & (TCs['triggercelliphi']==1)]\n"
   ]
  },
  {
   "cell_type": "code",
   "execution_count": 168,
   "id": "presidential-buying",
   "metadata": {},
   "outputs": [
    {
     "data": {
      "text/plain": [
       "8051    1.878372\n",
       "8052    1.836908\n",
       "8053    1.793823\n",
       "8054    1.750785\n",
       "8055    1.707798\n",
       "8056    1.664865\n",
       "8057    1.621990\n",
       "8058    1.579180\n",
       "8059    1.536437\n",
       "8060    1.493766\n",
       "8061    1.451174\n",
       "8062    1.408666\n",
       "8063    1.376918\n",
       "Name: triggercelleta, dtype: float64"
      ]
     },
     "execution_count": 168,
     "metadata": {},
     "output_type": "execute_result"
    }
   ],
   "source": [
    "m"
   ]
  },
  {
   "cell_type": "code",
   "execution_count": 126,
   "id": "naughty-watts",
   "metadata": {},
   "outputs": [
    {
     "data": {
      "text/plain": [
       "1.4719955"
      ]
     },
     "execution_count": 126,
     "metadata": {},
     "output_type": "execute_result"
    }
   ],
   "source": [
    "1.493814 -0.021818499999999963"
   ]
  },
  {
   "cell_type": "code",
   "execution_count": 103,
   "id": "beautiful-forty",
   "metadata": {},
   "outputs": [
    {
     "data": {
      "text/plain": [
       "<matplotlib.collections.PathCollection at 0x7fefd01f5550>"
      ]
     },
     "execution_count": 103,
     "metadata": {},
     "output_type": "execute_result"
    },
    {
     "data": {
      "image/png": "[encoded data removed]",
      "text/plain": [
       "<Figure size 432x288 with 1 Axes>"
      ]
     },
     "metadata": {
      "needs_background": "light"
     },
     "output_type": "display_data"
    }
   ],
   "source": [
    "plt.scatter(m.index, m.values)"
   ]
  },
  {
   "cell_type": "code",
   "execution_count": 47,
   "id": "generous-mills",
   "metadata": {},
   "outputs": [
    {
     "name": "stdout",
     "output_type": "stream",
     "text": [
      "15 1.305\n",
      "16 1.392\n",
      "17 1.479\n",
      "18 1.566\n",
      "19 1.653\n",
      "20 1.74\n",
      "21 1.827\n",
      "22 1.914\n",
      "23 2.001\n",
      "24 2.088\n",
      "25 2.175\n",
      "26 2.262\n",
      "27 2.349\n",
      "28 2.436\n",
      "29 2.523\n",
      "30 2.61\n",
      "31 2.697\n"
     ]
    }
   ],
   "source": [
    "for i in range(15, 3):\n",
    "    print(i, round(i*0.0870,5))"
   ]
  },
  {
   "cell_type": "code",
   "execution_count": 317,
   "id": "listed-saver",
   "metadata": {},
   "outputs": [
    {
     "data": {
      "text/plain": [
       "1.7399999999999998"
      ]
     },
     "execution_count": 317,
     "metadata": {},
     "output_type": "execute_result"
    }
   ],
   "source": [
    "20*0.087"
   ]
  },
  {
   "cell_type": "code",
   "execution_count": 346,
   "id": "governing-membership",
   "metadata": {},
   "outputs": [],
   "source": [
    "a = np.array([1,3,4,2])"
   ]
  },
  {
   "cell_type": "code",
   "execution_count": 347,
   "id": "grand-singer",
   "metadata": {},
   "outputs": [
    {
     "data": {
      "text/plain": [
       "array([1, 3, 4, 2])"
      ]
     },
     "execution_count": 347,
     "metadata": {},
     "output_type": "execute_result"
    }
   ],
   "source": [
    "a"
   ]
  },
  {
   "cell_type": "code",
   "execution_count": 348,
   "id": "running-trust",
   "metadata": {},
   "outputs": [],
   "source": [
    "a = a.flatten()"
   ]
  },
  {
   "cell_type": "code",
   "execution_count": 349,
   "id": "structural-forge",
   "metadata": {},
   "outputs": [
    {
     "data": {
      "text/plain": [
       "array([1, 3, 4, 2])"
      ]
     },
     "execution_count": 349,
     "metadata": {},
     "output_type": "execute_result"
    }
   ],
   "source": [
    "a"
   ]
  },
  {
   "cell_type": "code",
   "execution_count": 350,
   "id": "central-sugar",
   "metadata": {},
   "outputs": [],
   "source": [
    "a.sort()"
   ]
  },
  {
   "cell_type": "code",
   "execution_count": 351,
   "id": "toxic-command",
   "metadata": {},
   "outputs": [
    {
     "data": {
      "text/plain": [
       "array([1, 2, 3, 4])"
      ]
     },
     "execution_count": 351,
     "metadata": {},
     "output_type": "execute_result"
    }
   ],
   "source": [
    "a"
   ]
  },
  {
   "cell_type": "code",
   "execution_count": null,
   "id": "governing-estonia",
   "metadata": {},
   "outputs": [],
   "source": []
  }
 ],
 "metadata": {
  "kernelspec": {
   "display_name": "Python 3",
   "language": "python",
   "name": "python3"
  },
  "language_info": {
   "codemirror_mode": {
    "name": "ipython",
    "version": 3
   },
   "file_extension": ".py",
   "mimetype": "text/x-python",
   "name": "python",
   "nbconvert_exporter": "python",
   "pygments_lexer": "ipython3",
   "version": "3.9.1"
  }
 },
 "nbformat": 4,
 "nbformat_minor": 5
}
