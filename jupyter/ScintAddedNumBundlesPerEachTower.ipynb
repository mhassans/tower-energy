{
 "cells": [
  {
   "cell_type": "code",
   "execution_count": 1,
   "id": "temporal-signature",
   "metadata": {},
   "outputs": [],
   "source": [
    "import pandas as pd\n",
    "import numpy as np\n",
    "import matplotlib.pyplot as plt\n",
    "import sys"
   ]
  },
  {
   "cell_type": "code",
   "execution_count": 2,
   "id": "dimensional-agreement",
   "metadata": {},
   "outputs": [],
   "source": [
    "sys.path.insert(0, '..') #add paernet directory to the list in which packages are searched"
   ]
  },
  {
   "cell_type": "code",
   "execution_count": 3,
   "id": "considered-design",
   "metadata": {},
   "outputs": [
    {
     "name": "stdout",
     "output_type": "stream",
     "text": [
      "Welcome to JupyROOT 6.22/06\n"
     ]
    }
   ],
   "source": [
    "from funcs import getParMtxPerBundle_Silic, getParMtxPerBundle_Scint, getModulesPerBundle"
   ]
  },
  {
   "cell_type": "code",
   "execution_count": 4,
   "id": "elementary-services",
   "metadata": {},
   "outputs": [],
   "source": [
    "with open('../input/allocation/allocation_20210421.txt') as f:\n",
    "    lines = [line.rstrip('\\n') for line in f]\n",
    "f.close()"
   ]
  },
  {
   "cell_type": "code",
   "execution_count": 5,
   "id": "weekly-oregon",
   "metadata": {},
   "outputs": [],
   "source": [
    "bundlesSil = getModulesPerBundle(lines, isScintil=False)\n",
    "bundlesScint = getModulesPerBundle(lines, isScintil=True)"
   ]
  },
  {
   "cell_type": "code",
   "execution_count": 6,
   "id": "conscious-helicopter",
   "metadata": {},
   "outputs": [],
   "source": [
    "parMtxEM_PerBundle, parMtxHadSil_PerBundle = getParMtxPerBundle_Silic(bundlesSil, '../output/tower_module_mapping_array/', 'param_mtx_em.pkl', 'param_mtx_had_silic.pkl')\n"
   ]
  },
  {
   "cell_type": "code",
   "execution_count": 7,
   "id": "protective-antarctica",
   "metadata": {},
   "outputs": [],
   "source": [
    "parMtxHadScint_PerBundle = getParMtxPerBundle_Scint(bundlesScint, '../output/tower_module_mapping_array/', 'param_mtx_had_scint.pkl')\n",
    "\n"
   ]
  },
  {
   "cell_type": "code",
   "execution_count": 8,
   "id": "statewide-vegetation",
   "metadata": {},
   "outputs": [],
   "source": [
    "parMtxHad_PerBundle = {}\n",
    "for i in range(len(bundlesScint)):\n",
    "    parMtxHad_PerBundle[i] = pd.concat([parMtxHadSil_PerBundle[i],parMtxHadScint_PerBundle[i]], axis=1).fillna(0)"
   ]
  },
  {
   "cell_type": "code",
   "execution_count": 9,
   "id": "young-keeping",
   "metadata": {},
   "outputs": [],
   "source": [
    "indicesEM = [idx[3:] for idx in parMtxEM_PerBundle[0].index]\n",
    "indicesHad = [idx[4:] for idx in parMtxHad_PerBundle[0].index]"
   ]
  },
  {
   "cell_type": "code",
   "execution_count": 10,
   "id": "capital-sixth",
   "metadata": {},
   "outputs": [],
   "source": [
    "#indices = indicesEM + list(set(indicesHad) - set(indicesEM))"
   ]
  },
  {
   "cell_type": "code",
   "execution_count": 11,
   "id": "median-transport",
   "metadata": {},
   "outputs": [],
   "source": [
    "def make_df(parMtx_PerBundle, indices, isHad): #isHad is True for CE-H and False otherwise\n",
    "    name = 'Had' if isHad else 'EM'\n",
    "    cutIndex = 4 if isHad else 3\n",
    "    df = pd.DataFrame({name:np.zeros(len(indices))}, index = indices).astype(int)\n",
    "    for bundle in parMtx_PerBundle: #0,1,...,23\n",
    "        towers = [tower[cutIndex:] for tower in \\\n",
    "                  parMtx_PerBundle[bundle][(parMtx_PerBundle[bundle] != 0).any(axis=1)].index]\n",
    "        df.loc[df.index.isin(towers), name] += 1\n",
    "    return df\n",
    "\n",
    "def find_eta(name):\n",
    "    return int(name[name.find('eta')+3 : name.find('-phi')])\n",
    "\n",
    "def find_phi(name):\n",
    "    return int(name[name.find('-phi')+4:])\n",
    "\n",
    "def remove_phi(name):\n",
    "    return name[:name.find('-phi')+4]\n",
    "\n",
    "def plotHist(data, Name, binwidth=1, low_lim=1):\n",
    "    data=data[data!=0]\n",
    "    font = {'family': 'serif',\n",
    "        'color':  'darkred',\n",
    "        'weight': 'normal',\n",
    "        'size': 14,\n",
    "        }\n",
    "    #title = 'CE-E' if data.name=='EM' else 'CE-H'\n",
    "    print('mean = ', round(data.mean(), 2))\n",
    "    print('maximum = ', data.max())\n",
    "    print('total entries = ', len(data))\n",
    "    bins=np.arange(low_lim, max(data) + 2*binwidth, binwidth)\n",
    "    plt.hist(data, bins, ec='black')\n",
    "    plt.xticks(bins[::2])\n",
    "    plt.xlabel('number of Stage 1 FPGAs sending tower')\n",
    "    plt.ylabel('number of towers')\n",
    "    #plt.title(title)\n",
    "    plt.savefig('numOfStage1FPGAsSendingTower_' + Name + '.png', dpi=300)\n",
    "    \n",
    "def divideByRepeat(df):\n",
    "    df_countedOnce = df.copy()\n",
    "    countedTwice = {}\n",
    "    for tower in df.index:\n",
    "        if (find_phi(tower) < 0) | (find_phi(tower) > 23):\n",
    "            if(remove_phi(tower) + str(find_phi(tower) % 24) in df.index):\n",
    "                nameMerged = remove_phi(tower)+str(find_phi(tower))+'/'+str(find_phi(tower) % 24)\n",
    "                name1 = tower\n",
    "                name2 = remove_phi(tower)+str(find_phi(tower) % 24)\n",
    "                countedTwice[nameMerged] = int(df.loc[name1] + df.loc[name2])\n",
    "                df_countedOnce = df_countedOnce.drop([name1, name2])\n",
    "    df_countedTwice = pd.DataFrame(pd.Series(countedTwice), columns = df.columns)\n",
    "    return df_countedOnce, df_countedTwice\n",
    "    \n",
    "def divideBy30deg(df):\n",
    "    below30 = {}\n",
    "    above30 = {}\n",
    "    for tower in df.index:\n",
    "        if int(find_phi(tower))<6: #30 degrees\n",
    "            below30[tower] = int(df.loc[tower])\n",
    "        else:\n",
    "            above30[tower] = int(df.loc[tower])\n",
    "    df_below30 = pd.DataFrame(pd.Series(below30), columns = df.columns)\n",
    "    df_above30 = pd.DataFrame(pd.Series(above30), columns = df.columns)\n",
    "    \n",
    "    return df_below30, df_above30\n",
    "\n",
    "def numTowersPerBundle(parMtx_PerBundle, name):\n",
    "    below30 = {}\n",
    "    above30 = {}\n",
    "    for bundle in parMtx_PerBundle: #0,1,...,23\n",
    "        below30[bundle] = 0\n",
    "        above30[bundle] = 0\n",
    "        df = parMtx_PerBundle[bundle][(parMtx_PerBundle[bundle] != 0).any(axis=1)]\n",
    "        for tower in df.index:\n",
    "            if find_phi(tower)<6: # 30 degrees\n",
    "                below30[bundle] += 1\n",
    "            else:\n",
    "                above30[bundle] += 1\n",
    "    df_below30 = pd.DataFrame(pd.Series(below30), columns = [name])\n",
    "    df_above30 = pd.DataFrame(pd.Series(above30), columns = [name])\n",
    "    return df_below30, df_above30\n",
    "\n",
    "def plotHist2(df, Name):\n",
    "    name = df.columns[0]\n",
    "    #title = 'CE-E' if name=='EM' else 'CE-H'\n",
    "    print('mean = ', round(df[name].mean(), 2))\n",
    "    print('maximum = ', df[name].max())\n",
    "    fig, ax = plt.subplots()\n",
    "    ax.bar(df.index, df[name])\n",
    "    ax.set_ylabel('number of towers')\n",
    "    ax.set_xlabel('stage 1 FPGA label')\n",
    "    #ax.set_title(title)\n",
    "    plt.savefig('numOfTowersPerStage1FPGA_' + Name + '.png', dpi=300)"
   ]
  },
  {
   "cell_type": "code",
   "execution_count": 12,
   "id": "south-prize",
   "metadata": {},
   "outputs": [],
   "source": [
    "df_EM = make_df(parMtxEM_PerBundle, indicesEM, isHad = False)\n",
    "df_Had = make_df(parMtxHad_PerBundle, indicesHad, isHad = True)"
   ]
  },
  {
   "cell_type": "code",
   "execution_count": 13,
   "id": "moral-coffee",
   "metadata": {},
   "outputs": [],
   "source": [
    "df_countedOnceEM, df_countedTwiceEM = divideByRepeat(df_EM)"
   ]
  },
  {
   "cell_type": "code",
   "execution_count": 14,
   "id": "romance-director",
   "metadata": {},
   "outputs": [],
   "source": [
    "df_countedOnceHad, df_countedTwiceHad = divideByRepeat(df_Had)"
   ]
  },
  {
   "cell_type": "code",
   "execution_count": 15,
   "id": "joint-individual",
   "metadata": {},
   "outputs": [],
   "source": [
    "df_countedOnceEM_below30, df_countedOnceEM_above30 = divideBy30deg(df_countedOnceEM)"
   ]
  },
  {
   "cell_type": "code",
   "execution_count": 16,
   "id": "norwegian-pricing",
   "metadata": {},
   "outputs": [],
   "source": [
    "df_countedOnceHad_below30, df_countedOnceHad_above30 = divideBy30deg(df_countedOnceHad)"
   ]
  },
  {
   "cell_type": "code",
   "execution_count": null,
   "id": "opposite-foundation",
   "metadata": {},
   "outputs": [],
   "source": []
  },
  {
   "cell_type": "code",
   "execution_count": null,
   "id": "trying-malpractice",
   "metadata": {},
   "outputs": [],
   "source": []
  },
  {
   "cell_type": "code",
   "execution_count": 17,
   "id": "sound-eating",
   "metadata": {},
   "outputs": [
    {
     "name": "stdout",
     "output_type": "stream",
     "text": [
      "mean =  10.06\n",
      "maximum =  19\n",
      "total entries =  122\n"
     ]
    },
    {
     "data": {
      "image/png": "[encoded data removed]",
      "text/plain": [
       "<Figure size 432x288 with 1 Axes>"
      ]
     },
     "metadata": {
      "needs_background": "light"
     },
     "output_type": "display_data"
    }
   ],
   "source": [
    "plotHist(df_countedOnceEM_below30['EM'], 'countedOnceEM_below30')"
   ]
  },
  {
   "cell_type": "code",
   "execution_count": 18,
   "id": "ongoing-original",
   "metadata": {},
   "outputs": [
    {
     "name": "stdout",
     "output_type": "stream",
     "text": [
      "mean =  10.7\n",
      "maximum =  18\n",
      "total entries =  286\n"
     ]
    },
    {
     "data": {
      "image/png": "[encoded data removed]",
      "text/plain": [
       "<Figure size 432x288 with 1 Axes>"
      ]
     },
     "metadata": {
      "needs_background": "light"
     },
     "output_type": "display_data"
    }
   ],
   "source": [
    "plotHist(df_countedOnceEM_above30['EM'], 'countedOnceEM_above30')"
   ]
  },
  {
   "cell_type": "code",
   "execution_count": 19,
   "id": "capital-bearing",
   "metadata": {},
   "outputs": [
    {
     "name": "stdout",
     "output_type": "stream",
     "text": [
      "mean =  15.1\n",
      "maximum =  19\n",
      "total entries =  10\n"
     ]
    },
    {
     "data": {
      "image/png": "[encoded data removed]",
      "text/plain": [
       "<Figure size 432x288 with 1 Axes>"
      ]
     },
     "metadata": {
      "needs_background": "light"
     },
     "output_type": "display_data"
    }
   ],
   "source": [
    "plotHist(df_countedTwiceEM['EM'], 'countedTwiceEM')"
   ]
  },
  {
   "cell_type": "code",
   "execution_count": null,
   "id": "complex-arrow",
   "metadata": {},
   "outputs": [],
   "source": []
  },
  {
   "cell_type": "code",
   "execution_count": 20,
   "id": "collected-wilderness",
   "metadata": {},
   "outputs": [
    {
     "name": "stdout",
     "output_type": "stream",
     "text": [
      "mean =  11.26\n",
      "maximum =  20\n",
      "total entries =  102\n"
     ]
    },
    {
     "data": {
      "image/png": "[encoded data removed]",
      "text/plain": [
       "<Figure size 432x288 with 1 Axes>"
      ]
     },
     "metadata": {
      "needs_background": "light"
     },
     "output_type": "display_data"
    }
   ],
   "source": [
    "plotHist(df_countedOnceHad_below30['Had'], 'countedOnceHad_below30')"
   ]
  },
  {
   "cell_type": "code",
   "execution_count": 21,
   "id": "stone-basin",
   "metadata": {},
   "outputs": [
    {
     "name": "stdout",
     "output_type": "stream",
     "text": [
      "mean =  11.46\n",
      "maximum =  21\n",
      "total entries =  343\n"
     ]
    },
    {
     "data": {
      "image/png": "[encoded data removed]",
      "text/plain": [
       "<Figure size 432x288 with 1 Axes>"
      ]
     },
     "metadata": {
      "needs_background": "light"
     },
     "output_type": "display_data"
    }
   ],
   "source": [
    "plotHist(df_countedOnceHad_above30['Had'], 'countedOnceHad_above30')"
   ]
  },
  {
   "cell_type": "code",
   "execution_count": 22,
   "id": "endless-watch",
   "metadata": {},
   "outputs": [
    {
     "name": "stdout",
     "output_type": "stream",
     "text": [
      "mean =  13.71\n",
      "maximum =  22\n",
      "total entries =  35\n"
     ]
    },
    {
     "data": {
      "image/png": "[encoded data removed]",
      "text/plain": [
       "<Figure size 432x288 with 1 Axes>"
      ]
     },
     "metadata": {
      "needs_background": "light"
     },
     "output_type": "display_data"
    }
   ],
   "source": [
    "plotHist(df_countedTwiceHad['Had'], 'countedTwiceHad')"
   ]
  },
  {
   "cell_type": "code",
   "execution_count": null,
   "id": "equivalent-money",
   "metadata": {},
   "outputs": [],
   "source": []
  },
  {
   "cell_type": "code",
   "execution_count": null,
   "id": "accurate-alias",
   "metadata": {},
   "outputs": [],
   "source": []
  },
  {
   "cell_type": "code",
   "execution_count": null,
   "id": "similar-michael",
   "metadata": {},
   "outputs": [],
   "source": []
  },
  {
   "cell_type": "code",
   "execution_count": 23,
   "id": "sixth-concrete",
   "metadata": {},
   "outputs": [],
   "source": [
    "towersPerBundle_EM_below30, towersPerBundle_EM_above30 = numTowersPerBundle(parMtxEM_PerBundle, 'EM')"
   ]
  },
  {
   "cell_type": "code",
   "execution_count": 24,
   "id": "funded-ranch",
   "metadata": {},
   "outputs": [],
   "source": [
    "towersPerBundle_Had_below30, towersPerBundle_Had_above30 = numTowersPerBundle(parMtxHad_PerBundle, 'Had')"
   ]
  },
  {
   "cell_type": "code",
   "execution_count": null,
   "id": "superb-citation",
   "metadata": {},
   "outputs": [],
   "source": []
  },
  {
   "cell_type": "code",
   "execution_count": 25,
   "id": "certified-springfield",
   "metadata": {},
   "outputs": [
    {
     "name": "stdout",
     "output_type": "stream",
     "text": [
      "mean =  54.38\n",
      "maximum =  84\n"
     ]
    },
    {
     "data": {
      "image/png": "[encoded data removed]",
      "text/plain": [
       "<Figure size 432x288 with 1 Axes>"
      ]
     },
     "metadata": {
      "needs_background": "light"
     },
     "output_type": "display_data"
    }
   ],
   "source": [
    "plotHist2(towersPerBundle_EM_below30, 'EM_below30')"
   ]
  },
  {
   "cell_type": "code",
   "execution_count": 26,
   "id": "manual-fairy",
   "metadata": {},
   "outputs": [
    {
     "name": "stdout",
     "output_type": "stream",
     "text": [
      "mean =  130.58\n",
      "maximum =  167\n"
     ]
    },
    {
     "data": {
      "image/png": "[encoded data removed]",
      "text/plain": [
       "<Figure size 432x288 with 1 Axes>"
      ]
     },
     "metadata": {
      "needs_background": "light"
     },
     "output_type": "display_data"
    }
   ],
   "source": [
    "plotHist2(towersPerBundle_EM_above30, 'EM_above30')"
   ]
  },
  {
   "cell_type": "code",
   "execution_count": null,
   "id": "moderate-brunei",
   "metadata": {},
   "outputs": [],
   "source": []
  },
  {
   "cell_type": "code",
   "execution_count": null,
   "id": "australian-radio",
   "metadata": {},
   "outputs": [],
   "source": []
  },
  {
   "cell_type": "code",
   "execution_count": 27,
   "id": "typical-duration",
   "metadata": {},
   "outputs": [
    {
     "name": "stdout",
     "output_type": "stream",
     "text": [
      "mean =  58.21\n",
      "maximum =  88\n"
     ]
    },
    {
     "data": {
      "image/png": "[encoded data removed]",
      "text/plain": [
       "<Figure size 432x288 with 1 Axes>"
      ]
     },
     "metadata": {
      "needs_background": "light"
     },
     "output_type": "display_data"
    }
   ],
   "source": [
    "plotHist2(towersPerBundle_Had_below30, 'Had_below30')"
   ]
  },
  {
   "cell_type": "code",
   "execution_count": 28,
   "id": "powered-lemon",
   "metadata": {},
   "outputs": [
    {
     "name": "stdout",
     "output_type": "stream",
     "text": [
      "mean =  173.42\n",
      "maximum =  217\n"
     ]
    },
    {
     "data": {
      "image/png": "[encoded data removed]",
      "text/plain": [
       "<Figure size 432x288 with 1 Axes>"
      ]
     },
     "metadata": {
      "needs_background": "light"
     },
     "output_type": "display_data"
    }
   ],
   "source": [
    "plotHist2(towersPerBundle_Had_above30, 'Had_above30')"
   ]
  },
  {
   "cell_type": "code",
   "execution_count": null,
   "id": "improving-motion",
   "metadata": {},
   "outputs": [],
   "source": []
  },
  {
   "cell_type": "code",
   "execution_count": 29,
   "id": "quarterly-uruguay",
   "metadata": {},
   "outputs": [],
   "source": [
    "towersPerBundle_HadPlusEM_above30 = pd.DataFrame(towersPerBundle_EM_above30['EM'] + towersPerBundle_Had_above30['Had'], columns = ['HadPlusEM'])"
   ]
  },
  {
   "cell_type": "code",
   "execution_count": 30,
   "id": "treated-nickel",
   "metadata": {},
   "outputs": [],
   "source": [
    "towersPerBundle_HadPlusEM_below30 = pd.DataFrame(towersPerBundle_EM_below30['EM'] + towersPerBundle_Had_below30['Had'], columns = ['HadPlusEM'])"
   ]
  },
  {
   "cell_type": "code",
   "execution_count": 31,
   "id": "lightweight-anderson",
   "metadata": {},
   "outputs": [
    {
     "name": "stdout",
     "output_type": "stream",
     "text": [
      "mean =  112.58\n",
      "maximum =  145\n"
     ]
    },
    {
     "data": {
      "image/png": "[encoded data removed]",
      "text/plain": [
       "<Figure size 432x288 with 1 Axes>"
      ]
     },
     "metadata": {
      "needs_background": "light"
     },
     "output_type": "display_data"
    }
   ],
   "source": [
    "plotHist2(towersPerBundle_HadPlusEM_below30, 'HadPlusEM_below30')"
   ]
  },
  {
   "cell_type": "code",
   "execution_count": 32,
   "id": "continued-combination",
   "metadata": {},
   "outputs": [
    {
     "name": "stdout",
     "output_type": "stream",
     "text": [
      "mean =  304.0\n",
      "maximum =  352\n"
     ]
    },
    {
     "data": {
      "image/png": "[encoded data removed]",
      "text/plain": [
       "<Figure size 432x288 with 1 Axes>"
      ]
     },
     "metadata": {
      "needs_background": "light"
     },
     "output_type": "display_data"
    }
   ],
   "source": [
    "plotHist2(towersPerBundle_HadPlusEM_above30, 'HadPlusEM_above30')"
   ]
  },
  {
   "cell_type": "code",
   "execution_count": null,
   "id": "mineral-encounter",
   "metadata": {},
   "outputs": [],
   "source": []
  },
  {
   "cell_type": "code",
   "execution_count": null,
   "id": "saved-series",
   "metadata": {},
   "outputs": [],
   "source": []
  },
  {
   "cell_type": "code",
   "execution_count": null,
   "id": "ambient-second",
   "metadata": {},
   "outputs": [],
   "source": []
  }
 ],
 "metadata": {
  "kernelspec": {
   "display_name": "Python 3",
   "language": "python",
   "name": "python3"
  },
  "language_info": {
   "codemirror_mode": {
    "name": "ipython",
    "version": 3
   },
   "file_extension": ".py",
   "mimetype": "text/x-python",
   "name": "python",
   "nbconvert_exporter": "python",
   "pygments_lexer": "ipython3",
   "version": "3.9.1"
  }
 },
 "nbformat": 4,
 "nbformat_minor": 5
}
