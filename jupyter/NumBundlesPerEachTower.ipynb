{
 "cells": [
  {
   "cell_type": "code",
   "execution_count": 1,
   "id": "advance-warehouse",
   "metadata": {},
   "outputs": [
    {
     "name": "stderr",
     "output_type": "stream",
     "text": [
      "In /home/hep/mhh18/.config/matplotlib/stylelib/cms-img.mplstyle: \n",
      "The mathtext.fallback_to_cm rcparam was deprecated in Matplotlib 3.3 and will be removed two minor releases later.\n",
      "In /home/hep/mhh18/.config/matplotlib/stylelib/cms-img.mplstyle: Support for setting the 'mathtext.fallback_to_cm' rcParam is deprecated since 3.3 and will be removed two minor releases later; use 'mathtext.fallback : 'cm' instead.\n",
      "In /home/hep/mhh18/.config/matplotlib/stylelib/cms-img.mplstyle: \n",
      "The validate_bool_maybe_none function was deprecated in Matplotlib 3.3 and will be removed two minor releases later.\n",
      "In /home/hep/mhh18/.config/matplotlib/stylelib/cms.mplstyle: \n",
      "The mathtext.fallback_to_cm rcparam was deprecated in Matplotlib 3.3 and will be removed two minor releases later.\n",
      "In /home/hep/mhh18/.config/matplotlib/stylelib/cms.mplstyle: Support for setting the 'mathtext.fallback_to_cm' rcParam is deprecated since 3.3 and will be removed two minor releases later; use 'mathtext.fallback : 'cm' instead.\n",
      "In /home/hep/mhh18/.config/matplotlib/stylelib/cms.mplstyle: \n",
      "The validate_bool_maybe_none function was deprecated in Matplotlib 3.3 and will be removed two minor releases later.\n",
      "In /home/hep/mhh18/.config/matplotlib/stylelib/cms-sns.mplstyle: \n",
      "The mathtext.fallback_to_cm rcparam was deprecated in Matplotlib 3.3 and will be removed two minor releases later.\n",
      "In /home/hep/mhh18/.config/matplotlib/stylelib/cms-sns.mplstyle: Support for setting the 'mathtext.fallback_to_cm' rcParam is deprecated since 3.3 and will be removed two minor releases later; use 'mathtext.fallback : 'cm' instead.\n",
      "In /home/hep/mhh18/.config/matplotlib/stylelib/cms-sns.mplstyle: \n",
      "The validate_bool_maybe_none function was deprecated in Matplotlib 3.3 and will be removed two minor releases later.\n"
     ]
    }
   ],
   "source": [
    "import pandas as pd\n",
    "import numpy as np\n",
    "import matplotlib.pyplot as plt\n",
    "import sys"
   ]
  },
  {
   "cell_type": "code",
   "execution_count": 2,
   "id": "armed-state",
   "metadata": {},
   "outputs": [],
   "source": [
    "sys.path.insert(0, '..') #add paernet directory to the list in which packages are searched"
   ]
  },
  {
   "cell_type": "code",
   "execution_count": 3,
   "id": "suitable-senior",
   "metadata": {},
   "outputs": [
    {
     "name": "stdout",
     "output_type": "stream",
     "text": [
      "Welcome to JupyROOT 6.22/06\n"
     ]
    }
   ],
   "source": [
    "from funcs import getParMtxPerBundle, getModulesPerBundle"
   ]
  },
  {
   "cell_type": "code",
   "execution_count": 4,
   "id": "unnecessary-colleague",
   "metadata": {},
   "outputs": [],
   "source": [
    "with open('../input/allocation/allocation_20200729_1.txt') as f:\n",
    "    lines = [line.rstrip('\\n') for line in f]\n",
    "f.close()"
   ]
  },
  {
   "cell_type": "code",
   "execution_count": 5,
   "id": "painted-confirmation",
   "metadata": {},
   "outputs": [],
   "source": [
    "bundles = getModulesPerBundle(lines)"
   ]
  },
  {
   "cell_type": "code",
   "execution_count": 6,
   "id": "received-strike",
   "metadata": {},
   "outputs": [],
   "source": [
    "parMtxEM_PerBundle, parMtxHad_PerBundle = getParMtxPerBundle(bundles, '../output/tower_module_mapping_array/', 'param_mtx_em.pkl', 'param_mtx_had.pkl')"
   ]
  },
  {
   "cell_type": "code",
   "execution_count": 7,
   "id": "social-firewall",
   "metadata": {},
   "outputs": [],
   "source": [
    "indicesEM = [idx[3:] for idx in parMtxEM_PerBundle[0].index]\n",
    "indicesHad = [idx[4:] for idx in parMtxHad_PerBundle[0].index]"
   ]
  },
  {
   "cell_type": "code",
   "execution_count": 8,
   "id": "copyrighted-arrest",
   "metadata": {},
   "outputs": [],
   "source": [
    "#indices = indicesEM + list(set(indicesHad) - set(indicesEM))"
   ]
  },
  {
   "cell_type": "code",
   "execution_count": 138,
   "id": "serial-secret",
   "metadata": {},
   "outputs": [],
   "source": [
    "def make_df(parMtx_PerBundle, indices, isHad): #isHad is True for CE-H and False otherwise\n",
    "    name = 'Had' if isHad else 'EM'\n",
    "    cutIndex = 4 if isHad else 3\n",
    "    df = pd.DataFrame({name:np.zeros(len(indices))}, index = indices).astype(int)\n",
    "    for bundle in parMtx_PerBundle: #0,1,...,23\n",
    "        towers = [tower[cutIndex:] for tower in \\\n",
    "                  parMtx_PerBundle[bundle][(parMtx_PerBundle[bundle] != 0).any(axis=1)].index]\n",
    "        df.loc[df.index.isin(towers), name] += 1\n",
    "    return df\n",
    "\n",
    "def find_eta(name):\n",
    "    return int(name[name.find('eta')+3 : name.find('-phi')])\n",
    "\n",
    "def find_phi(name):\n",
    "    return int(name[name.find('-phi')+4:])\n",
    "\n",
    "def remove_phi(name):\n",
    "    return name[:name.find('-phi')+4]\n",
    "\n",
    "def plotHist(data, Name):\n",
    "    data=data[data!=0]\n",
    "    font = {'family': 'serif',\n",
    "        'color':  'darkred',\n",
    "        'weight': 'normal',\n",
    "        'size': 14,\n",
    "        }\n",
    "    title = 'CE-E' if data.name=='EM' else 'CE-H'\n",
    "    print('mean = ', round(data.mean(), 2))\n",
    "    print('maximum = ', data.max())\n",
    "    print('total entries = ', len(data))\n",
    "    binwidth = 1\n",
    "    bins=np.arange(1, max(data) + 2*binwidth, binwidth)\n",
    "    plt.hist(data, bins, ec='black')\n",
    "    plt.xticks(bins[::2])\n",
    "    plt.xlabel('number of Stage 1 FPGAs sending tower')\n",
    "    plt.ylabel('number of towers')\n",
    "    plt.title(title)\n",
    "    plt.savefig('numOfStage1FPGAsSendingTower_' + Name + '.pdf')\n",
    "    \n",
    "def divideByRepeat(df):\n",
    "    df_countedOnce = df.copy()\n",
    "    countedTwice = {}\n",
    "    for tower in df.index:\n",
    "        if (find_phi(tower) < 0) | (find_phi(tower) > 23):\n",
    "            if(remove_phi(tower) + str(find_phi(tower) % 24) in df.index):\n",
    "                nameMerged = remove_phi(tower)+str(find_phi(tower))+'/'+str(find_phi(tower) % 24)\n",
    "                name1 = tower\n",
    "                name2 = remove_phi(tower)+str(find_phi(tower) % 24)\n",
    "                countedTwice[nameMerged] = int(df.loc[name1] + df.loc[name2])\n",
    "                df_countedOnce = df_countedOnce.drop([name1, name2])\n",
    "    df_countedTwice = pd.DataFrame(pd.Series(countedTwice), columns = df.columns)\n",
    "    return df_countedOnce, df_countedTwice\n",
    "    \n",
    "def divideBy30deg(df):\n",
    "    under30 = {}\n",
    "    above30 = {}\n",
    "    for tower in df.index:\n",
    "        if int(find_phi(tower))<6:\n",
    "            under30[tower] = int(df.loc[tower])\n",
    "        else:\n",
    "            above30[tower] = int(df.loc[tower])\n",
    "    df_under30 = pd.DataFrame(pd.Series(under30), columns = df.columns)\n",
    "    df_above30 = pd.DataFrame(pd.Series(above30), columns = df.columns)\n",
    "    \n",
    "    return df_under30, df_above30"
   ]
  },
  {
   "cell_type": "code",
   "execution_count": 10,
   "id": "mediterranean-respect",
   "metadata": {},
   "outputs": [],
   "source": [
    "df_EM = make_df(parMtxEM_PerBundle, indicesEM, isHad = False)\n",
    "df_Had = make_df(parMtxHad_PerBundle, indicesHad, isHad = True)"
   ]
  },
  {
   "cell_type": "code",
   "execution_count": 94,
   "id": "conservative-graphic",
   "metadata": {},
   "outputs": [],
   "source": [
    "df_countedOnceEM, df_countedTwiceEM = divideByRepeat(df_EM)"
   ]
  },
  {
   "cell_type": "code",
   "execution_count": 95,
   "id": "undefined-hanging",
   "metadata": {},
   "outputs": [],
   "source": [
    "df_countedOnceHad, df_countedTwiceHad = divideByRepeat(df_Had)"
   ]
  },
  {
   "cell_type": "code",
   "execution_count": 96,
   "id": "understood-bosnia",
   "metadata": {},
   "outputs": [],
   "source": [
    "df_countedOnceEM_under30, df_countedOnceEM_above30 = divideBy30deg(df_countedOnceEM)"
   ]
  },
  {
   "cell_type": "code",
   "execution_count": 97,
   "id": "radical-planet",
   "metadata": {},
   "outputs": [],
   "source": [
    "df_countedOnceHad_under30, df_countedOnceHad_above30 = divideBy30deg(df_countedOnceHad)"
   ]
  },
  {
   "cell_type": "code",
   "execution_count": null,
   "id": "transsexual-milton",
   "metadata": {},
   "outputs": [],
   "source": []
  },
  {
   "cell_type": "code",
   "execution_count": 139,
   "id": "worth-spine",
   "metadata": {},
   "outputs": [
    {
     "name": "stdout",
     "output_type": "stream",
     "text": [
      "mean =  10.84\n",
      "maximum =  19\n",
      "total entries =  122\n"
     ]
    },
    {
     "data": {
      "image/png": "[encoded data removed]",
      "text/plain": [
       "<Figure size 432x288 with 1 Axes>"
      ]
     },
     "metadata": {
      "needs_background": "light"
     },
     "output_type": "display_data"
    }
   ],
   "source": [
    "plotHist(df_countedOnceEM_under30['EM'], 'countedOnceEM_under30')"
   ]
  },
  {
   "cell_type": "code",
   "execution_count": 140,
   "id": "olympic-amino",
   "metadata": {},
   "outputs": [
    {
     "name": "stdout",
     "output_type": "stream",
     "text": [
      "mean =  11.37\n",
      "maximum =  20\n",
      "total entries =  286\n"
     ]
    },
    {
     "data": {
      "image/png": "[encoded data removed]",
      "text/plain": [
       "<Figure size 432x288 with 1 Axes>"
      ]
     },
     "metadata": {
      "needs_background": "light"
     },
     "output_type": "display_data"
    }
   ],
   "source": [
    "plotHist(df_countedOnceEM_above30['EM'], 'countedOnceEM_above30')"
   ]
  },
  {
   "cell_type": "code",
   "execution_count": 141,
   "id": "killing-perry",
   "metadata": {},
   "outputs": [
    {
     "name": "stdout",
     "output_type": "stream",
     "text": [
      "mean =  16.5\n",
      "maximum =  22\n",
      "total entries =  10\n"
     ]
    },
    {
     "data": {
      "image/png": "[encoded data removed]",
      "text/plain": [
       "<Figure size 432x288 with 1 Axes>"
      ]
     },
     "metadata": {
      "needs_background": "light"
     },
     "output_type": "display_data"
    }
   ],
   "source": [
    "plotHist(df_countedTwiceEM['EM'], 'df_countedTwiceEM')"
   ]
  },
  {
   "cell_type": "code",
   "execution_count": null,
   "id": "pressed-renaissance",
   "metadata": {},
   "outputs": [],
   "source": []
  },
  {
   "cell_type": "code",
   "execution_count": 142,
   "id": "regular-respect",
   "metadata": {},
   "outputs": [
    {
     "name": "stdout",
     "output_type": "stream",
     "text": [
      "mean =  11.4\n",
      "maximum =  17\n",
      "total entries =  90\n"
     ]
    },
    {
     "data": {
      "image/png": "[encoded data removed]",
      "text/plain": [
       "<Figure size 432x288 with 1 Axes>"
      ]
     },
     "metadata": {
      "needs_background": "light"
     },
     "output_type": "display_data"
    }
   ],
   "source": [
    "plotHist(df_countedOnceHad_under30['Had'], 'countedOnceHad_under30')"
   ]
  },
  {
   "cell_type": "code",
   "execution_count": 143,
   "id": "emerging-davis",
   "metadata": {},
   "outputs": [
    {
     "name": "stdout",
     "output_type": "stream",
     "text": [
      "mean =  10.84\n",
      "maximum =  17\n",
      "total entries =  307\n"
     ]
    },
    {
     "data": {
      "image/png": "[encoded data removed]",
      "text/plain": [
       "<Figure size 432x288 with 1 Axes>"
      ]
     },
     "metadata": {
      "needs_background": "light"
     },
     "output_type": "display_data"
    }
   ],
   "source": [
    "plotHist(df_countedOnceHad_above30['Had'], 'countedOnceHad_above30')"
   ]
  },
  {
   "cell_type": "code",
   "execution_count": 144,
   "id": "animal-innocent",
   "metadata": {},
   "outputs": [
    {
     "name": "stdout",
     "output_type": "stream",
     "text": [
      "mean =  12.51\n",
      "maximum =  18\n",
      "total entries =  35\n"
     ]
    },
    {
     "data": {
      "image/png": "[encoded data removed]",
      "text/plain": [
       "<Figure size 432x288 with 1 Axes>"
      ]
     },
     "metadata": {
      "needs_background": "light"
     },
     "output_type": "display_data"
    }
   ],
   "source": [
    "plotHist(df_countedTwiceHad['Had'], 'df_countedTwiceHad')"
   ]
  },
  {
   "cell_type": "code",
   "execution_count": null,
   "id": "parliamentary-classification",
   "metadata": {},
   "outputs": [],
   "source": []
  }
 ],
 "metadata": {
  "kernelspec": {
   "display_name": "Python 3",
   "language": "python",
   "name": "python3"
  },
  "language_info": {
   "codemirror_mode": {
    "name": "ipython",
    "version": 3
   },
   "file_extension": ".py",
   "mimetype": "text/x-python",
   "name": "python",
   "nbconvert_exporter": "python",
   "pygments_lexer": "ipython3",
   "version": "3.9.1"
  }
 },
 "nbformat": 4,
 "nbformat_minor": 5
}
