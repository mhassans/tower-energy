{
 "cells": [
  {
   "cell_type": "code",
   "execution_count": 2,
   "id": "crazy-coalition",
   "metadata": {},
   "outputs": [
    {
     "name": "stderr",
     "output_type": "stream",
     "text": [
      "In /home/hep/mhh18/.config/matplotlib/stylelib/cms-img.mplstyle: \n",
      "The mathtext.fallback_to_cm rcparam was deprecated in Matplotlib 3.3 and will be removed two minor releases later.\n",
      "In /home/hep/mhh18/.config/matplotlib/stylelib/cms-img.mplstyle: Support for setting the 'mathtext.fallback_to_cm' rcParam is deprecated since 3.3 and will be removed two minor releases later; use 'mathtext.fallback : 'cm' instead.\n",
      "In /home/hep/mhh18/.config/matplotlib/stylelib/cms-img.mplstyle: \n",
      "The validate_bool_maybe_none function was deprecated in Matplotlib 3.3 and will be removed two minor releases later.\n",
      "In /home/hep/mhh18/.config/matplotlib/stylelib/cms.mplstyle: \n",
      "The mathtext.fallback_to_cm rcparam was deprecated in Matplotlib 3.3 and will be removed two minor releases later.\n",
      "In /home/hep/mhh18/.config/matplotlib/stylelib/cms.mplstyle: Support for setting the 'mathtext.fallback_to_cm' rcParam is deprecated since 3.3 and will be removed two minor releases later; use 'mathtext.fallback : 'cm' instead.\n",
      "In /home/hep/mhh18/.config/matplotlib/stylelib/cms.mplstyle: \n",
      "The validate_bool_maybe_none function was deprecated in Matplotlib 3.3 and will be removed two minor releases later.\n",
      "In /home/hep/mhh18/.config/matplotlib/stylelib/cms-sns.mplstyle: \n",
      "The mathtext.fallback_to_cm rcparam was deprecated in Matplotlib 3.3 and will be removed two minor releases later.\n",
      "In /home/hep/mhh18/.config/matplotlib/stylelib/cms-sns.mplstyle: Support for setting the 'mathtext.fallback_to_cm' rcParam is deprecated since 3.3 and will be removed two minor releases later; use 'mathtext.fallback : 'cm' instead.\n",
      "In /home/hep/mhh18/.config/matplotlib/stylelib/cms-sns.mplstyle: \n",
      "The validate_bool_maybe_none function was deprecated in Matplotlib 3.3 and will be removed two minor releases later.\n"
     ]
    }
   ],
   "source": [
    "import pandas as pd\n",
    "import numpy as np\n",
    "import matplotlib.pyplot as plt\n",
    "import sys"
   ]
  },
  {
   "cell_type": "code",
   "execution_count": 3,
   "id": "medical-concrete",
   "metadata": {},
   "outputs": [],
   "source": [
    "sys.path.insert(0, '..') #add paernet directory to the list in which packages are searched"
   ]
  },
  {
   "cell_type": "code",
   "execution_count": 4,
   "id": "dress-museum",
   "metadata": {},
   "outputs": [
    {
     "name": "stdout",
     "output_type": "stream",
     "text": [
      "Welcome to JupyROOT 6.22/06\n"
     ]
    }
   ],
   "source": [
    "from funcs import getParMtxPerBundle, getModulesPerBundle"
   ]
  },
  {
   "cell_type": "code",
   "execution_count": 5,
   "id": "tight-status",
   "metadata": {},
   "outputs": [],
   "source": [
    "with open('../input/allocation/allocation_20200729_1.txt') as f:\n",
    "    lines = [line.rstrip('\\n') for line in f]\n",
    "f.close()"
   ]
  },
  {
   "cell_type": "code",
   "execution_count": 6,
   "id": "accurate-cotton",
   "metadata": {},
   "outputs": [],
   "source": [
    "bundles = getModulesPerBundle(lines)"
   ]
  },
  {
   "cell_type": "code",
   "execution_count": 7,
   "id": "regular-myanmar",
   "metadata": {},
   "outputs": [],
   "source": [
    "parMtxEM_PerBundle, parMtxHad_PerBundle = getParMtxPerBundle(bundles, '../output/tower_module_mapping_array/', 'param_mtx_em.pkl', 'param_mtx_had.pkl')"
   ]
  },
  {
   "cell_type": "code",
   "execution_count": 8,
   "id": "racial-duplicate",
   "metadata": {},
   "outputs": [],
   "source": [
    "indicesEM = [idx[3:] for idx in parMtxEM_PerBundle[0].index]\n",
    "indicesHad = [idx[4:] for idx in parMtxHad_PerBundle[0].index]"
   ]
  },
  {
   "cell_type": "code",
   "execution_count": 9,
   "id": "stuffed-warren",
   "metadata": {},
   "outputs": [],
   "source": [
    "indices = indicesEM + list(set(indicesHad) - set(indicesEM))"
   ]
  },
  {
   "cell_type": "code",
   "execution_count": 85,
   "id": "central-wrapping",
   "metadata": {},
   "outputs": [],
   "source": []
  },
  {
   "cell_type": "code",
   "execution_count": 147,
   "id": "different-input",
   "metadata": {},
   "outputs": [],
   "source": [
    "df = pd.DataFrame({'EM':np.zeros(len(indices)), 'Had':np.zeros(len(indices))}, index = indices).astype(int)\n",
    "for bundle in parMtxEM_PerBundle:\n",
    "    towers = [tower[3:] for tower in parMtxEM_PerBundle[bundle][(parMtxEM_PerBundle[bundle] != 0).any(axis=1)].index]\n",
    "    df.loc[df.index.isin(towers), 'EM'] += 1\n",
    "for bundle in parMtxHad_PerBundle:\n",
    "    towers = [tower[4:] for tower in parMtxHad_PerBundle[bundle][(parMtxHad_PerBundle[bundle] != 0).any(axis=1)].index]\n",
    "    df.loc[df.index.isin(towers), 'Had'] += 1"
   ]
  },
  {
   "cell_type": "code",
   "execution_count": 148,
   "id": "dominant-parts",
   "metadata": {},
   "outputs": [],
   "source": [
    "def plotHist(data):\n",
    "    data=data[data!=0]\n",
    "    font = {'family': 'serif',\n",
    "        'color':  'darkred',\n",
    "        'weight': 'normal',\n",
    "        'size': 14,\n",
    "        }\n",
    "    title = 'CE-E' if data.name=='EM' else 'CE-H'\n",
    "    textMaxPosition = 70 if data.name=='EM' else 57\n",
    "    mean = 'mean = ' + str(round(data.mean(),2))\n",
    "    maximum = 'max = ' + str(data.max())\n",
    "    tot_towers = 'num. of towers = ' + str(len(data))\n",
    "    binwidth = 1\n",
    "    bins=np.arange(1, max(data) + 2*binwidth, binwidth)\n",
    "    plt.hist(data, bins, ec='black')\n",
    "    plt.xticks(bins[::2])\n",
    "    plt.text(1, textMaxPosition, tot_towers, fontdict=font)\n",
    "    plt.text(1, textMaxPosition-7, mean, fontdict=font)\n",
    "    plt.text(1, textMaxPosition-14, maximum, fontdict=font)\n",
    "    plt.xlabel('number of Stage 1 FPGAs sending tower')\n",
    "    plt.ylabel('number of towers')\n",
    "    plt.title(title)\n",
    "    plt.savefig('numOfStage1FPGAsSendingTower_'+data.name+'.pdf')"
   ]
  },
  {
   "cell_type": "code",
   "execution_count": 149,
   "id": "affected-shore",
   "metadata": {},
   "outputs": [
    {
     "data": {
      "image/png": "[encoded data removed]",
      "text/plain": [
       "<Figure size 432x288 with 1 Axes>"
      ]
     },
     "metadata": {
      "needs_background": "light"
     },
     "output_type": "display_data"
    }
   ],
   "source": [
    "data = df['EM']\n",
    "plotHist(data)"
   ]
  },
  {
   "cell_type": "code",
   "execution_count": 150,
   "id": "helpful-surgeon",
   "metadata": {},
   "outputs": [
    {
     "data": {
      "image/png": "[encoded data removed]",
      "text/plain": [
       "<Figure size 432x288 with 1 Axes>"
      ]
     },
     "metadata": {
      "needs_background": "light"
     },
     "output_type": "display_data"
    }
   ],
   "source": [
    "data = df['Had']\n",
    "plotHist(data)"
   ]
  },
  {
   "cell_type": "code",
   "execution_count": null,
   "id": "naked-particle",
   "metadata": {},
   "outputs": [],
   "source": []
  }
 ],
 "metadata": {
  "kernelspec": {
   "display_name": "Python 3",
   "language": "python",
   "name": "python3"
  },
  "language_info": {
   "codemirror_mode": {
    "name": "ipython",
    "version": 3
   },
   "file_extension": ".py",
   "mimetype": "text/x-python",
   "name": "python",
   "nbconvert_exporter": "python",
   "pygments_lexer": "ipython3",
   "version": "3.9.1"
  }
 },
 "nbformat": 4,
 "nbformat_minor": 5
}
