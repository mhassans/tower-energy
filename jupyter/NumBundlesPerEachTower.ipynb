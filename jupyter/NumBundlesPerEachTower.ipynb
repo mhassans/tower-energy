{
 "cells": [
  {
   "cell_type": "code",
   "execution_count": 45,
   "id": "sonic-collector",
   "metadata": {},
   "outputs": [],
   "source": [
    "import pandas as pd\n",
    "import numpy as np\n",
    "import matplotlib.pyplot as plt\n",
    "import sys"
   ]
  },
  {
   "cell_type": "code",
   "execution_count": 2,
   "id": "blind-payday",
   "metadata": {},
   "outputs": [],
   "source": [
    "sys.path.insert(0, '..') #add paernet directory to the list in which packages are searched"
   ]
  },
  {
   "cell_type": "code",
   "execution_count": 3,
   "id": "cognitive-reputation",
   "metadata": {},
   "outputs": [
    {
     "name": "stdout",
     "output_type": "stream",
     "text": [
      "Welcome to JupyROOT 6.22/06\n"
     ]
    }
   ],
   "source": [
    "from funcs import getParMtxPerBundle, getModulesPerBundle"
   ]
  },
  {
   "cell_type": "code",
   "execution_count": 4,
   "id": "american-breakfast",
   "metadata": {},
   "outputs": [],
   "source": [
    "with open('../input/allocation/allocation_20200729_1.txt') as f:\n",
    "    lines = [line.rstrip('\\n') for line in f]\n",
    "f.close()"
   ]
  },
  {
   "cell_type": "code",
   "execution_count": 5,
   "id": "split-flesh",
   "metadata": {},
   "outputs": [],
   "source": [
    "bundles = getModulesPerBundle(lines)"
   ]
  },
  {
   "cell_type": "code",
   "execution_count": 6,
   "id": "applied-blackberry",
   "metadata": {},
   "outputs": [],
   "source": [
    "parMtxEM_PerBundle, parMtxHad_PerBundle = getParMtxPerBundle(bundles, '../output/tower_module_mapping_array/', 'param_mtx_em.pkl', 'param_mtx_had.pkl')"
   ]
  },
  {
   "cell_type": "code",
   "execution_count": 7,
   "id": "proprietary-fellowship",
   "metadata": {},
   "outputs": [],
   "source": [
    "indicesEM = [idx[3:] for idx in parMtxEM_PerBundle[0].index]\n",
    "indicesHad = [idx[4:] for idx in parMtxHad_PerBundle[0].index]"
   ]
  },
  {
   "cell_type": "code",
   "execution_count": null,
   "id": "sensitive-manual",
   "metadata": {},
   "outputs": [],
   "source": [
    "#indices = indicesEM + list(set(indicesHad) - set(indicesEM))"
   ]
  },
  {
   "cell_type": "code",
   "execution_count": 51,
   "id": "bright-challenge",
   "metadata": {},
   "outputs": [],
   "source": [
    "def make_df(parMtx_PerBundle, indices, isHad): #isHad is True for CE-H and False otherwise\n",
    "    name = 'Had' if isHad else 'EM'\n",
    "    cutIndex = 4 if isHad else 3\n",
    "    df = pd.DataFrame({name:np.zeros(len(indices))}, index = indices).astype(int)\n",
    "    for bundle in parMtx_PerBundle: #0,1,...,23\n",
    "        towers = [tower[cutIndex:] for tower in \\\n",
    "                  parMtx_PerBundle[bundle][(parMtx_PerBundle[bundle] != 0).any(axis=1)].index]\n",
    "        df.loc[df.index.isin(towers), name] += 1\n",
    "    return df\n",
    "\n",
    "def find_eta(name):\n",
    "    return int(name[name.find('eta')+3 : name.find('-phi')])\n",
    "\n",
    "def find_phi(name):\n",
    "    return int(name[name.find('-phi')+4:])\n",
    "\n",
    "def remove_phi(name):\n",
    "    return name[:name.find('-phi')+4]\n",
    "\n",
    "def plotHist(data, Name, binwidth=1, low_lim=1):\n",
    "    data=data[data!=0]\n",
    "    font = {'family': 'serif',\n",
    "        'color':  'darkred',\n",
    "        'weight': 'normal',\n",
    "        'size': 14,\n",
    "        }\n",
    "    #title = 'CE-E' if data.name=='EM' else 'CE-H'\n",
    "    print('mean = ', round(data.mean(), 2))\n",
    "    print('maximum = ', data.max())\n",
    "    print('total entries = ', len(data))\n",
    "    bins=np.arange(low_lim, max(data) + 2*binwidth, binwidth)\n",
    "    plt.hist(data, bins, ec='black')\n",
    "    plt.xticks(bins[::2])\n",
    "    plt.xlabel('number of Stage 1 FPGAs sending tower')\n",
    "    plt.ylabel('number of towers')\n",
    "    #plt.title(title)\n",
    "    plt.savefig('numOfStage1FPGAsSendingTower_' + Name + '.png', dpi=300)\n",
    "    \n",
    "def divideByRepeat(df):\n",
    "    df_countedOnce = df.copy()\n",
    "    countedTwice = {}\n",
    "    for tower in df.index:\n",
    "        if (find_phi(tower) < 0) | (find_phi(tower) > 23):\n",
    "            if(remove_phi(tower) + str(find_phi(tower) % 24) in df.index):\n",
    "                nameMerged = remove_phi(tower)+str(find_phi(tower))+'/'+str(find_phi(tower) % 24)\n",
    "                name1 = tower\n",
    "                name2 = remove_phi(tower)+str(find_phi(tower) % 24)\n",
    "                countedTwice[nameMerged] = int(df.loc[name1] + df.loc[name2])\n",
    "                df_countedOnce = df_countedOnce.drop([name1, name2])\n",
    "    df_countedTwice = pd.DataFrame(pd.Series(countedTwice), columns = df.columns)\n",
    "    return df_countedOnce, df_countedTwice\n",
    "    \n",
    "def divideBy30deg(df):\n",
    "    below30 = {}\n",
    "    above30 = {}\n",
    "    for tower in df.index:\n",
    "        if int(find_phi(tower))<6: #30 degrees\n",
    "            below30[tower] = int(df.loc[tower])\n",
    "        else:\n",
    "            above30[tower] = int(df.loc[tower])\n",
    "    df_below30 = pd.DataFrame(pd.Series(below30), columns = df.columns)\n",
    "    df_above30 = pd.DataFrame(pd.Series(above30), columns = df.columns)\n",
    "    \n",
    "    return df_below30, df_above30\n",
    "\n",
    "def numTowersPerBundle(parMtx_PerBundle, name):\n",
    "    below30 = {}\n",
    "    above30 = {}\n",
    "    for bundle in parMtx_PerBundle: #0,1,...,23\n",
    "        below30[bundle] = 0\n",
    "        above30[bundle] = 0\n",
    "        df = parMtx_PerBundle[bundle][(parMtx_PerBundle[bundle] != 0).any(axis=1)]\n",
    "        for tower in df.index:\n",
    "            if find_phi(tower)<6: # 30 degrees\n",
    "                below30[bundle] += 1\n",
    "            else:\n",
    "                above30[bundle] += 1\n",
    "    df_below30 = pd.DataFrame(pd.Series(below30), columns = [name])\n",
    "    df_above30 = pd.DataFrame(pd.Series(above30), columns = [name])\n",
    "    return df_below30, df_above30\n",
    "\n",
    "def plotHist2(df, Name):\n",
    "    name = df.columns[0]\n",
    "    #title = 'CE-E' if name=='EM' else 'CE-H'\n",
    "    print('mean = ', round(df[name].mean(), 2))\n",
    "    print('maximum = ', df[name].max())\n",
    "    fig, ax = plt.subplots()\n",
    "    ax.bar(df.index, df[name])\n",
    "    ax.set_ylabel('number of towers')\n",
    "    ax.set_xlabel('stage 1 FPGA label')\n",
    "    #ax.set_title(title)\n",
    "    plt.savefig('numOfTowersPerStage1FPGA_' + Name + '.png', dpi=300)"
   ]
  },
  {
   "cell_type": "code",
   "execution_count": 9,
   "id": "prepared-hawaii",
   "metadata": {},
   "outputs": [],
   "source": [
    "df_EM = make_df(parMtxEM_PerBundle, indicesEM, isHad = False)\n",
    "df_Had = make_df(parMtxHad_PerBundle, indicesHad, isHad = True)"
   ]
  },
  {
   "cell_type": "code",
   "execution_count": 10,
   "id": "smart-quarterly",
   "metadata": {},
   "outputs": [],
   "source": [
    "df_countedOnceEM, df_countedTwiceEM = divideByRepeat(df_EM)"
   ]
  },
  {
   "cell_type": "code",
   "execution_count": 11,
   "id": "solar-coordination",
   "metadata": {},
   "outputs": [],
   "source": [
    "df_countedOnceHad, df_countedTwiceHad = divideByRepeat(df_Had)"
   ]
  },
  {
   "cell_type": "code",
   "execution_count": 12,
   "id": "gross-original",
   "metadata": {},
   "outputs": [],
   "source": [
    "df_countedOnceEM_below30, df_countedOnceEM_above30 = divideBy30deg(df_countedOnceEM)"
   ]
  },
  {
   "cell_type": "code",
   "execution_count": 13,
   "id": "played-facing",
   "metadata": {},
   "outputs": [],
   "source": [
    "df_countedOnceHad_below30, df_countedOnceHad_above30 = divideBy30deg(df_countedOnceHad)"
   ]
  },
  {
   "cell_type": "code",
   "execution_count": null,
   "id": "worthy-helicopter",
   "metadata": {},
   "outputs": [],
   "source": []
  },
  {
   "cell_type": "code",
   "execution_count": null,
   "id": "blessed-posting",
   "metadata": {},
   "outputs": [],
   "source": []
  },
  {
   "cell_type": "code",
   "execution_count": 30,
   "id": "employed-parameter",
   "metadata": {},
   "outputs": [
    {
     "name": "stdout",
     "output_type": "stream",
     "text": [
      "mean =  10.84\n",
      "maximum =  19\n",
      "total entries =  122\n"
     ]
    },
    {
     "data": {
      "image/png": "[encoded data removed]",
      "text/plain": [
       "<Figure size 432x288 with 1 Axes>"
      ]
     },
     "metadata": {
      "needs_background": "light"
     },
     "output_type": "display_data"
    }
   ],
   "source": [
    "plotHist(df_countedOnceEM_below30['EM'], 'countedOnceEM_below30')"
   ]
  },
  {
   "cell_type": "code",
   "execution_count": 31,
   "id": "ordinary-tooth",
   "metadata": {},
   "outputs": [
    {
     "name": "stdout",
     "output_type": "stream",
     "text": [
      "mean =  11.37\n",
      "maximum =  20\n",
      "total entries =  286\n"
     ]
    },
    {
     "data": {
      "image/png": "[encoded data removed]",
      "text/plain": [
       "<Figure size 432x288 with 1 Axes>"
      ]
     },
     "metadata": {
      "needs_background": "light"
     },
     "output_type": "display_data"
    }
   ],
   "source": [
    "plotHist(df_countedOnceEM_above30['EM'], 'countedOnceEM_above30')"
   ]
  },
  {
   "cell_type": "code",
   "execution_count": 44,
   "id": "noble-currency",
   "metadata": {},
   "outputs": [
    {
     "name": "stdout",
     "output_type": "stream",
     "text": [
      "mean =  16.5\n",
      "maximum =  22\n",
      "total entries =  10\n"
     ]
    },
    {
     "data": {
      "image/png": "[encoded data removed]",
      "text/plain": [
       "<Figure size 432x288 with 1 Axes>"
      ]
     },
     "metadata": {
      "needs_background": "light"
     },
     "output_type": "display_data"
    }
   ],
   "source": [
    "plotHist(df_countedTwiceEM['EM'], 'countedTwiceEM')"
   ]
  },
  {
   "cell_type": "code",
   "execution_count": null,
   "id": "romantic-november",
   "metadata": {},
   "outputs": [],
   "source": []
  },
  {
   "cell_type": "code",
   "execution_count": 33,
   "id": "optical-artist",
   "metadata": {},
   "outputs": [
    {
     "name": "stdout",
     "output_type": "stream",
     "text": [
      "mean =  11.4\n",
      "maximum =  17\n",
      "total entries =  90\n"
     ]
    },
    {
     "data": {
      "image/png": "[encoded data removed]",
      "text/plain": [
       "<Figure size 432x288 with 1 Axes>"
      ]
     },
     "metadata": {
      "needs_background": "light"
     },
     "output_type": "display_data"
    }
   ],
   "source": [
    "plotHist(df_countedOnceHad_below30['Had'], 'countedOnceHad_below30')"
   ]
  },
  {
   "cell_type": "code",
   "execution_count": 34,
   "id": "moved-adjustment",
   "metadata": {},
   "outputs": [
    {
     "name": "stdout",
     "output_type": "stream",
     "text": [
      "mean =  10.84\n",
      "maximum =  17\n",
      "total entries =  307\n"
     ]
    },
    {
     "data": {
      "image/png": "[encoded data removed]",
      "text/plain": [
       "<Figure size 432x288 with 1 Axes>"
      ]
     },
     "metadata": {
      "needs_background": "light"
     },
     "output_type": "display_data"
    }
   ],
   "source": [
    "plotHist(df_countedOnceHad_above30['Had'], 'countedOnceHad_above30')"
   ]
  },
  {
   "cell_type": "code",
   "execution_count": 43,
   "id": "general-superintendent",
   "metadata": {},
   "outputs": [
    {
     "name": "stdout",
     "output_type": "stream",
     "text": [
      "mean =  12.51\n",
      "maximum =  18\n",
      "total entries =  35\n"
     ]
    },
    {
     "data": {
      "image/png": "[encoded data removed]",
      "text/plain": [
       "<Figure size 432x288 with 1 Axes>"
      ]
     },
     "metadata": {
      "needs_background": "light"
     },
     "output_type": "display_data"
    }
   ],
   "source": [
    "plotHist(df_countedTwiceHad['Had'], 'countedTwiceHad')"
   ]
  },
  {
   "cell_type": "code",
   "execution_count": null,
   "id": "charged-sunglasses",
   "metadata": {},
   "outputs": [],
   "source": []
  },
  {
   "cell_type": "code",
   "execution_count": null,
   "id": "commercial-rally",
   "metadata": {},
   "outputs": [],
   "source": []
  },
  {
   "cell_type": "code",
   "execution_count": null,
   "id": "organized-bhutan",
   "metadata": {},
   "outputs": [],
   "source": []
  },
  {
   "cell_type": "code",
   "execution_count": 52,
   "id": "piano-affiliation",
   "metadata": {},
   "outputs": [],
   "source": [
    "towersPerBundle_EM_below30, towersPerBundle_EM_above30 = numTowersPerBundle(parMtxEM_PerBundle, 'EM')"
   ]
  },
  {
   "cell_type": "code",
   "execution_count": 53,
   "id": "visible-master",
   "metadata": {},
   "outputs": [],
   "source": [
    "towersPerBundle_Had_below30, towersPerBundle_Had_above30 = numTowersPerBundle(parMtxHad_PerBundle, 'Had')"
   ]
  },
  {
   "cell_type": "code",
   "execution_count": null,
   "id": "criminal-screw",
   "metadata": {},
   "outputs": [],
   "source": []
  },
  {
   "cell_type": "code",
   "execution_count": 54,
   "id": "tested-dialogue",
   "metadata": {},
   "outputs": [
    {
     "name": "stdout",
     "output_type": "stream",
     "text": [
      "mean =  58.79\n",
      "maximum =  93\n"
     ]
    },
    {
     "data": {
      "image/png": "[encoded data removed]",
      "text/plain": [
       "<Figure size 432x288 with 1 Axes>"
      ]
     },
     "metadata": {
      "needs_background": "light"
     },
     "output_type": "display_data"
    }
   ],
   "source": [
    "plotHist2(towersPerBundle_EM_below30, 'EM_below30')"
   ]
  },
  {
   "cell_type": "code",
   "execution_count": 39,
   "id": "desirable-earthquake",
   "metadata": {},
   "outputs": [
    {
     "name": "stdout",
     "output_type": "stream",
     "text": [
      "mean =  138.67\n",
      "maximum =  210\n"
     ]
    },
    {
     "data": {
      "image/png": "[encoded data removed]",
      "text/plain": [
       "<Figure size 432x288 with 1 Axes>"
      ]
     },
     "metadata": {
      "needs_background": "light"
     },
     "output_type": "display_data"
    }
   ],
   "source": [
    "plotHist2(towersPerBundle_EM_above30, 'EM_above30')"
   ]
  },
  {
   "cell_type": "code",
   "execution_count": null,
   "id": "voluntary-lightning",
   "metadata": {},
   "outputs": [],
   "source": []
  },
  {
   "cell_type": "code",
   "execution_count": null,
   "id": "distant-cause",
   "metadata": {},
   "outputs": [],
   "source": []
  },
  {
   "cell_type": "code",
   "execution_count": 40,
   "id": "distinguished-republican",
   "metadata": {},
   "outputs": [
    {
     "name": "stdout",
     "output_type": "stream",
     "text": [
      "mean =  51.92\n",
      "maximum =  89\n"
     ]
    },
    {
     "data": {
      "image/png": "[encoded data removed]",
      "text/plain": [
       "<Figure size 432x288 with 1 Axes>"
      ]
     },
     "metadata": {
      "needs_background": "light"
     },
     "output_type": "display_data"
    }
   ],
   "source": [
    "plotHist2(towersPerBundle_Had_below30, 'Had_below30')"
   ]
  },
  {
   "cell_type": "code",
   "execution_count": 41,
   "id": "isolated-stuff",
   "metadata": {},
   "outputs": [
    {
     "name": "stdout",
     "output_type": "stream",
     "text": [
      "mean =  147.71\n",
      "maximum =  190\n"
     ]
    },
    {
     "data": {
      "image/png": "[encoded data removed]",
      "text/plain": [
       "<Figure size 432x288 with 1 Axes>"
      ]
     },
     "metadata": {
      "needs_background": "light"
     },
     "output_type": "display_data"
    }
   ],
   "source": [
    "plotHist2(towersPerBundle_Had_above30, 'Had_above30')"
   ]
  },
  {
   "cell_type": "code",
   "execution_count": 42,
   "id": "immune-liberia",
   "metadata": {},
   "outputs": [],
   "source": []
  },
  {
   "cell_type": "code",
   "execution_count": 68,
   "id": "destroyed-minority",
   "metadata": {},
   "outputs": [],
   "source": [
    "towersPerBundle_HadPlusEM_above30 = pd.DataFrame(towersPerBundle_EM_above30['EM'] + towersPerBundle_Had_above30['Had'], columns = ['HadPlusEM'])"
   ]
  },
  {
   "cell_type": "code",
   "execution_count": 69,
   "id": "surface-japanese",
   "metadata": {},
   "outputs": [],
   "source": [
    "towersPerBundle_HadPlusEM_below30 = pd.DataFrame(towersPerBundle_EM_below30['EM'] + towersPerBundle_Had_below30['Had'], columns = ['HadPlusEM'])"
   ]
  },
  {
   "cell_type": "code",
   "execution_count": 70,
   "id": "thorough-expense",
   "metadata": {},
   "outputs": [
    {
     "name": "stdout",
     "output_type": "stream",
     "text": [
      "mean =  110.71\n",
      "maximum =  157\n"
     ]
    },
    {
     "data": {
      "image/png": "[encoded data removed]",
      "text/plain": [
       "<Figure size 432x288 with 1 Axes>"
      ]
     },
     "metadata": {
      "needs_background": "light"
     },
     "output_type": "display_data"
    }
   ],
   "source": [
    "plotHist2(towersPerBundle_HadPlusEM_below30, 'HadPlusEM_below30')"
   ]
  },
  {
   "cell_type": "code",
   "execution_count": 71,
   "id": "accessible-trance",
   "metadata": {},
   "outputs": [
    {
     "name": "stdout",
     "output_type": "stream",
     "text": [
      "mean =  286.38\n",
      "maximum =  367\n"
     ]
    },
    {
     "data": {
      "image/png": "[encoded data removed]",
      "text/plain": [
       "<Figure size 432x288 with 1 Axes>"
      ]
     },
     "metadata": {
      "needs_background": "light"
     },
     "output_type": "display_data"
    }
   ],
   "source": [
    "plotHist2(towersPerBundle_HadPlusEM_above30, 'HadPlusEM_above30')"
   ]
  },
  {
   "cell_type": "code",
   "execution_count": null,
   "id": "athletic-fundamentals",
   "metadata": {},
   "outputs": [],
   "source": []
  }
 ],
 "metadata": {
  "kernelspec": {
   "display_name": "Python 3",
   "language": "python",
   "name": "python3"
  },
  "language_info": {
   "codemirror_mode": {
    "name": "ipython",
    "version": 3
   },
   "file_extension": ".py",
   "mimetype": "text/x-python",
   "name": "python",
   "nbconvert_exporter": "python",
   "pygments_lexer": "ipython3",
   "version": "3.9.1"
  }
 },
 "nbformat": 4,
 "nbformat_minor": 5
}
